{
 "cells": [
  {
   "cell_type": "markdown",
   "metadata": {},
   "source": [
    "# PYTHON TEMEL"
   ]
  },
  {
   "cell_type": "markdown",
   "metadata": {},
   "source": [
    "## 1. Giriş"
   ]
  },
  {
   "cell_type": "markdown",
   "metadata": {},
   "source": [
    "### 1. 1. Programlama Nedir?\n",
    "<p> Verilen girdilerden istenilen çıktının elde edilmesine programlama denir. Program bilgisayarlarla iletişim kurmamızı sağlayan aracıdır. </p>"
   ]
  },
  {
   "cell_type": "markdown",
   "metadata": {},
   "source": [
    "### 1. 2. Jupyter Notebook\n",
    "<p><b>Jupyter Notebook</b>, bilgisayarların anladığı dilden konuşmamızı sağlayan <b>Python</b> dilinde projelerin geliştirilmesine olanak tanıyan ortamlardan biridir. Hem kod hem de döküman yazmak için kullanılabilir."
   ]
  },
  {
   "cell_type": "markdown",
   "metadata": {},
   "source": [
    "### 1. 3. Temel Veri Tipleri\n",
    "<p> Programlar veri objelerini manipüle ederek istediklerimizi yaparlar. Programlara istediklerimizi yaptırmak için verileri ifade etmemiz gerekir. </p>"
   ]
  },
  {
   "cell_type": "markdown",
   "metadata": {},
   "source": [
    "#### Data Object\n",
    "Veri objeleri her türlü değer olabilir. **int**, **float**, **str**, **bool** gibi.\n",
    "\n",
    "Veri objeleri ikiye ayrılır:\n",
    "<ol>\n",
    "    <li><b>Scalar</b>: Daha alt parçalara bölünemeyen yapılar. (sayılar vs.)</li>\n",
    "    <li><b>Non-scalar</b>: Daha alt parçalara bölünebilen, içsel yapısına irişilebilen yapılar. (karakter dizileri vs.)\n",
    "</ol>\n",
    "\n",
    "* Her objenin bir tipi vardır, program bu tiplere göre onlarla nasıl işlem yapabileceğine karar verir. (İki sayıyı toplamak, iki yazıyı birleştirmek)\n",
    "\n",
    "Scalar veri tipleri:\n",
    "<ol>\n",
    "    <li><b>Integer</b>(Tam Sayılar): 3, 4, 7</li>\n",
    "    <li><b>Float</b>(Ondalıklı Sayılar): 3.7, 2.0, 5.</li>\n",
    "    <li><b>Boolean</b>(Mantıksal Tip): Bir ifadenin doğru (True) veya yanlışlığına (False) göre hareket eden veri tipi.</li>\n",
    "</ol>"
   ]
  },
  {
   "cell_type": "markdown",
   "metadata": {},
   "source": [
    "<code>type()</code>: Veri objelerinin tipini görmemizi sağlayan fonksiyon."
   ]
  },
  {
   "cell_type": "code",
   "execution_count": 4,
   "metadata": {},
   "outputs": [
    {
     "data": {
      "text/plain": [
       "float"
      ]
     },
     "execution_count": 4,
     "metadata": {},
     "output_type": "execute_result"
    }
   ],
   "source": [
    "type(3 + 5.6)"
   ]
  },
  {
   "cell_type": "markdown",
   "metadata": {},
   "source": [
    "#### Type Casting\n",
    "<p> Veri objelerinin tiplerinin dönüştürülmesine denir. </p>"
   ]
  },
  {
   "cell_type": "code",
   "execution_count": 24,
   "metadata": {},
   "outputs": [
    {
     "data": {
      "text/plain": [
       "2"
      ]
     },
     "execution_count": 24,
     "metadata": {},
     "output_type": "execute_result"
    }
   ],
   "source": [
    "int(2.9) # Yuvarlama olmaz, ondalık kısmı atar."
   ]
  },
  {
   "cell_type": "code",
   "execution_count": 25,
   "metadata": {},
   "outputs": [
    {
     "data": {
      "text/plain": [
       "7.0"
      ]
     },
     "execution_count": 25,
     "metadata": {},
     "output_type": "execute_result"
    }
   ],
   "source": [
    "float(7)"
   ]
  },
  {
   "cell_type": "markdown",
   "metadata": {},
   "source": [
    "### 1. 4. Değişken Atama"
   ]
  },
  {
   "cell_type": "markdown",
   "metadata": {},
   "source": [
    "**Variable Assignment**: Değişken atama işlemidir. Değerleri tekrar tekrar kullanmak amacıyla kullanılırlar. İsimlendirme yapıldığı için verileri daha okunabilir hale getirir. Kullanıcıdan input alma işlemlerinde kullanılır. Atama işlemi **=** operatörü ile yapılır. "
   ]
  },
  {
   "cell_type": "code",
   "execution_count": 2,
   "metadata": {},
   "outputs": [
    {
     "data": {
      "text/plain": [
       "9"
      ]
     },
     "execution_count": 2,
     "metadata": {},
     "output_type": "execute_result"
    }
   ],
   "source": [
    "a = 9\n",
    "a"
   ]
  },
  {
   "cell_type": "markdown",
   "metadata": {},
   "source": [
    "<code>print()</code>: Verileri ekrana yazdırmaya yarayan fonksiyon."
   ]
  },
  {
   "cell_type": "code",
   "execution_count": 17,
   "metadata": {},
   "outputs": [
    {
     "name": "stdout",
     "output_type": "stream",
     "text": [
      "Emin\n"
     ]
    }
   ],
   "source": [
    "print(\"Emin\")"
   ]
  },
  {
   "cell_type": "markdown",
   "metadata": {},
   "source": [
    "### 1. 5. Operatörler ve İfadeler "
   ]
  },
  {
   "cell_type": "markdown",
   "metadata": {},
   "source": [
    "**Operator**: Değerler ile işlemler yapmak amacıyla kullanılan sembollerdir. **+, -, \\*, /** gibi operatörler bulunur. **//** operatörü bölümdeki değer float ise .'dan sonra 0 getirir. **%** operatörü bölümden kalanı verir. ****** operatörü üs aldırır."
   ]
  },
  {
   "cell_type": "code",
   "execution_count": 7,
   "metadata": {},
   "outputs": [
    {
     "data": {
      "text/plain": [
       "2.1875"
      ]
     },
     "execution_count": 7,
     "metadata": {},
     "output_type": "execute_result"
    }
   ],
   "source": [
    "7 / 3.2"
   ]
  },
  {
   "cell_type": "code",
   "execution_count": 1,
   "metadata": {},
   "outputs": [
    {
     "data": {
      "text/plain": [
       "2.0"
      ]
     },
     "execution_count": 1,
     "metadata": {},
     "output_type": "execute_result"
    }
   ],
   "source": [
    "7 // 3.2 # içinde kaç kez var"
   ]
  },
  {
   "cell_type": "code",
   "execution_count": 15,
   "metadata": {},
   "outputs": [
    {
     "data": {
      "text/plain": [
       "1"
      ]
     },
     "execution_count": 15,
     "metadata": {},
     "output_type": "execute_result"
    }
   ],
   "source": [
    "9 % 4"
   ]
  },
  {
   "cell_type": "code",
   "execution_count": 16,
   "metadata": {},
   "outputs": [
    {
     "data": {
      "text/plain": [
       "8"
      ]
     },
     "execution_count": 16,
     "metadata": {},
     "output_type": "execute_result"
    }
   ],
   "source": [
    "2**3"
   ]
  },
  {
   "cell_type": "markdown",
   "metadata": {},
   "source": [
    "**Expression**: Değerlerin operatörler ile ifade edilmesidir."
   ]
  },
  {
   "cell_type": "code",
   "execution_count": 3,
   "metadata": {},
   "outputs": [
    {
     "data": {
      "text/plain": [
       "9"
      ]
     },
     "execution_count": 3,
     "metadata": {},
     "output_type": "execute_result"
    }
   ],
   "source": [
    "2 + 7"
   ]
  },
  {
   "cell_type": "markdown",
   "metadata": {},
   "source": [
    "## 2. String"
   ]
  },
  {
   "cell_type": "markdown",
   "metadata": {},
   "source": [
    "### 2. 1. String Veri Tipi\n",
    "* Karakter dizisidir. \n",
    "* Karakterler; harfler(a, b, C), özel karakterler(?, /, =), sayılar(3, 21, 4.2) ve boşluk(space) olabilir.\n",
    "* Bir şeyin string olduğunu belirtmek için tek tırnak (' ') veya çift tırnak (\" \") kullanılmalıdır. \n",
    "* **Python, tırnakların içine yazılan her şeye karakter olarak davranır.**\n",
    "* String, **Non-scalar** bir veri tipidir. Yani elemanlar içerir.\n",
    "* String, **immutable** bir veri tipidir. Yani elemenlarının değerleri değiştirilemez."
   ]
  },
  {
   "cell_type": "code",
   "execution_count": 26,
   "metadata": {},
   "outputs": [
    {
     "data": {
      "text/plain": [
       "'Emin Baştürk'"
      ]
     },
     "execution_count": 26,
     "metadata": {},
     "output_type": "execute_result"
    }
   ],
   "source": [
    "\"Emin Baştürk\""
   ]
  },
  {
   "cell_type": "markdown",
   "metadata": {},
   "source": [
    "#### Escape Sequence\n",
    "* String içerisinde farklı algılanabilecek karakterleri doğru algılanmasını sağlayan metot. \n",
    "* **\\** (backslash) kullanılır."
   ]
  },
  {
   "cell_type": "code",
   "execution_count": 27,
   "metadata": {},
   "outputs": [
    {
     "data": {
      "text/plain": [
       "'Bana \"Bugün ne yapıyorsun?\" dedi.'"
      ]
     },
     "execution_count": 27,
     "metadata": {},
     "output_type": "execute_result"
    }
   ],
   "source": [
    "\"Bana \\\"Bugün ne yapıyorsun?\\\" dedi.\""
   ]
  },
  {
   "cell_type": "markdown",
   "metadata": {},
   "source": [
    "* \\n : Alt satıra geçer.\n",
    "* \\t : Bir tablık boşluk bırakır."
   ]
  },
  {
   "cell_type": "code",
   "execution_count": 23,
   "metadata": {},
   "outputs": [
    {
     "name": "stdout",
     "output_type": "stream",
     "text": [
      "Naber\tNasılsın?\n",
      "İyi misin?\n"
     ]
    }
   ],
   "source": [
    "print(\"Naber\\tNasılsın?\\nİyi misin?\")"
   ]
  },
  {
   "cell_type": "markdown",
   "metadata": {},
   "source": [
    "### 2. 2. Stringler Üzerinde Operatörler"
   ]
  },
  {
   "cell_type": "markdown",
   "metadata": {},
   "source": [
    "* Sayısal veri tiplerinde değer atama işlemleri nasıl yapılıyor ise stringlerde de aynı şekilde yapılır."
   ]
  },
  {
   "cell_type": "code",
   "execution_count": 2,
   "metadata": {},
   "outputs": [
    {
     "name": "stdout",
     "output_type": "stream",
     "text": [
      "Data Scientist\n"
     ]
    }
   ],
   "source": [
    "emin = \"Data Scientist\"\n",
    "print(emin)"
   ]
  },
  {
   "cell_type": "markdown",
   "metadata": {},
   "source": [
    "#### String Concatenation\n",
    "<p>İki stringin birleştirilmesine <b>string concatenation</b> denir. Birleştirme işlemi <b>+</b> operatörü ile yapılır. </p>"
   ]
  },
  {
   "cell_type": "code",
   "execution_count": 3,
   "metadata": {},
   "outputs": [
    {
     "data": {
      "text/plain": [
       "'54'"
      ]
     },
     "execution_count": 3,
     "metadata": {},
     "output_type": "execute_result"
    }
   ],
   "source": [
    "\"5\" + \"4\""
   ]
  },
  {
   "cell_type": "markdown",
   "metadata": {},
   "source": [
    "#### Successive Concatenation\n",
    "<p>Ardışık birleştirme de denir. <b>*</b> operatörü ile gerçekleştirilir.</p>"
   ]
  },
  {
   "cell_type": "code",
   "execution_count": 4,
   "metadata": {},
   "outputs": [
    {
     "data": {
      "text/plain": [
       "'10000000000'"
      ]
     },
     "execution_count": 4,
     "metadata": {},
     "output_type": "execute_result"
    }
   ],
   "source": [
    "\"1\" + \"0\"*10"
   ]
  },
  {
   "cell_type": "markdown",
   "metadata": {},
   "source": [
    "<code>len()</code>: Stringin kaç karakterden oluştuğunu bulan fonksiyon."
   ]
  },
  {
   "cell_type": "code",
   "execution_count": 5,
   "metadata": {},
   "outputs": [
    {
     "data": {
      "text/plain": [
       "12"
      ]
     },
     "execution_count": 5,
     "metadata": {},
     "output_type": "execute_result"
    }
   ],
   "source": [
    "len(\"Emin Baştürk\")"
   ]
  },
  {
   "cell_type": "markdown",
   "metadata": {},
   "source": [
    "### 2. 3. Stringlerde Indexleme\n",
    "#### Indexing (Elemanlara Erişme)\n",
    "* Stringler non-scalar oldukları için elemanlarına erişilebilir.\n",
    "* Alt elemanlara erişme işlemine **indexing** denir. İşlem **[]** ile gerçekleştirilir."
   ]
  },
  {
   "cell_type": "code",
   "execution_count": 2,
   "metadata": {},
   "outputs": [
    {
     "data": {
      "text/plain": [
       "'m'"
      ]
     },
     "execution_count": 2,
     "metadata": {},
     "output_type": "execute_result"
    }
   ],
   "source": [
    "isim = \"Emin Baştürk\"\n",
    "isim[1]"
   ]
  },
  {
   "cell_type": "markdown",
   "metadata": {},
   "source": [
    "* Python'da indexler **0**'dan başlar. İlk elemanı almak için **[0]** yapmak gerekir."
   ]
  },
  {
   "cell_type": "code",
   "execution_count": 3,
   "metadata": {},
   "outputs": [
    {
     "data": {
      "text/plain": [
       "'E'"
      ]
     },
     "execution_count": 3,
     "metadata": {},
     "output_type": "execute_result"
    }
   ],
   "source": [
    "isim[0]"
   ]
  },
  {
   "cell_type": "markdown",
   "metadata": {},
   "source": [
    "* Sondan eleman almak için **[-1]**'den başlamak gerekir."
   ]
  },
  {
   "cell_type": "code",
   "execution_count": 4,
   "metadata": {
    "scrolled": true
   },
   "outputs": [
    {
     "data": {
      "text/plain": [
       "'k'"
      ]
     },
     "execution_count": 4,
     "metadata": {},
     "output_type": "execute_result"
    }
   ],
   "source": [
    "isim[-1]"
   ]
  },
  {
   "cell_type": "markdown",
   "metadata": {},
   "source": [
    "* Stringin uzunluğundan daha fazla bir index verildiğinde hata alırsın."
   ]
  },
  {
   "cell_type": "code",
   "execution_count": 5,
   "metadata": {
    "collapsed": true
   },
   "outputs": [
    {
     "ename": "IndexError",
     "evalue": "string index out of range",
     "output_type": "error",
     "traceback": [
      "\u001b[1;31m---------------------------------------------------------------------------\u001b[0m",
      "\u001b[1;31mIndexError\u001b[0m                                Traceback (most recent call last)",
      "\u001b[1;32m<ipython-input-5-871c25d8889e>\u001b[0m in \u001b[0;36m<module>\u001b[1;34m\u001b[0m\n\u001b[1;32m----> 1\u001b[1;33m \u001b[0misim\u001b[0m\u001b[1;33m[\u001b[0m\u001b[1;36m50\u001b[0m\u001b[1;33m]\u001b[0m\u001b[1;33m\u001b[0m\u001b[1;33m\u001b[0m\u001b[0m\n\u001b[0m",
      "\u001b[1;31mIndexError\u001b[0m: string index out of range"
     ]
    }
   ],
   "source": [
    "isim[50]"
   ]
  },
  {
   "cell_type": "markdown",
   "metadata": {},
   "source": [
    "* Stringlerin elemanını değiştirmek isterken de hata alırsın."
   ]
  },
  {
   "cell_type": "code",
   "execution_count": 6,
   "metadata": {},
   "outputs": [
    {
     "ename": "TypeError",
     "evalue": "'str' object does not support item assignment",
     "output_type": "error",
     "traceback": [
      "\u001b[1;31m---------------------------------------------------------------------------\u001b[0m",
      "\u001b[1;31mTypeError\u001b[0m                                 Traceback (most recent call last)",
      "\u001b[1;32m<ipython-input-6-30bd5dfbffe2>\u001b[0m in \u001b[0;36m<module>\u001b[1;34m\u001b[0m\n\u001b[1;32m----> 1\u001b[1;33m \u001b[0misim\u001b[0m\u001b[1;33m[\u001b[0m\u001b[1;36m0\u001b[0m\u001b[1;33m]\u001b[0m \u001b[1;33m=\u001b[0m \u001b[1;34m\"A\"\u001b[0m\u001b[1;33m\u001b[0m\u001b[1;33m\u001b[0m\u001b[0m\n\u001b[0m",
      "\u001b[1;31mTypeError\u001b[0m: 'str' object does not support item assignment"
     ]
    }
   ],
   "source": [
    "isim[0] = \"A\""
   ]
  },
  {
   "cell_type": "markdown",
   "metadata": {},
   "source": [
    "#### Slicing (Dilimleme)\n",
    "* Birden fazla alt eleman almak için kullanılan tekniğe **slicing** denir.\n",
    "* **[]** içinde **başlangıç** ve **bitiş** belirtmek üzere aralarında **:** bulunan bir ifade yazdığında slicing yapmış olursun. \n",
    "* Burada başlangıç **dahil** olurken, bitiş **hariç**tir."
   ]
  },
  {
   "cell_type": "code",
   "execution_count": 8,
   "metadata": {},
   "outputs": [
    {
     "data": {
      "text/plain": [
       "'Emin'"
      ]
     },
     "execution_count": 8,
     "metadata": {},
     "output_type": "execute_result"
    }
   ],
   "source": [
    "isim[0:4]"
   ]
  },
  {
   "cell_type": "markdown",
   "metadata": {},
   "source": [
    "* Slicing işleminde başlangıç veya bitişi belirtmezsen en baştan alır veya sona kadar gider."
   ]
  },
  {
   "cell_type": "code",
   "execution_count": 9,
   "metadata": {},
   "outputs": [
    {
     "name": "stdout",
     "output_type": "stream",
     "text": [
      "Emin\n",
      "Baştürk\n"
     ]
    }
   ],
   "source": [
    "print(isim[:4])\n",
    "print(isim[5:])"
   ]
  },
  {
   "cell_type": "markdown",
   "metadata": {},
   "source": [
    "* Slicing işleminde index dışına çıkmak hataya neden olmaz."
   ]
  },
  {
   "cell_type": "code",
   "execution_count": 10,
   "metadata": {},
   "outputs": [
    {
     "data": {
      "text/plain": [
       "'Baştürk'"
      ]
     },
     "execution_count": 10,
     "metadata": {},
     "output_type": "execute_result"
    }
   ],
   "source": [
    "isim[5:50]"
   ]
  },
  {
   "cell_type": "markdown",
   "metadata": {},
   "source": [
    "* Slicing işleminde bitişten sonra ikinci bir : dahil ettiğin zaman vereceğin değer **adım** değeri olur. \n",
    "* Bu değer karakterleri hangi aralıklarla alacağını belirler."
   ]
  },
  {
   "cell_type": "code",
   "execution_count": 12,
   "metadata": {},
   "outputs": [
    {
     "data": {
      "text/plain": [
       "'mnBşük'"
      ]
     },
     "execution_count": 12,
     "metadata": {},
     "output_type": "execute_result"
    }
   ],
   "source": [
    "isim[1::2]"
   ]
  },
  {
   "cell_type": "markdown",
   "metadata": {},
   "source": [
    "* Bu işlemi tersten de yapabilirsin ancak normal slicing işlemini de tersten yapman gerekir."
   ]
  },
  {
   "cell_type": "code",
   "execution_count": 15,
   "metadata": {},
   "outputs": [
    {
     "data": {
      "text/plain": [
       "'krütşaB nimE'"
      ]
     },
     "execution_count": 15,
     "metadata": {},
     "output_type": "execute_result"
    }
   ],
   "source": [
    "isim[::-1]"
   ]
  },
  {
   "cell_type": "markdown",
   "metadata": {},
   "source": [
    "### 2. 4. Stringlerde Casting\n",
    "* Sadece sayısal değer barındıran stringler, floata veya integera dönüştürülebilir."
   ]
  },
  {
   "cell_type": "code",
   "execution_count": 21,
   "metadata": {},
   "outputs": [
    {
     "data": {
      "text/plain": [
       "3"
      ]
     },
     "execution_count": 21,
     "metadata": {},
     "output_type": "execute_result"
    }
   ],
   "source": [
    "int(\"3\")"
   ]
  },
  {
   "cell_type": "code",
   "execution_count": 22,
   "metadata": {},
   "outputs": [
    {
     "data": {
      "text/plain": [
       "4.7"
      ]
     },
     "execution_count": 22,
     "metadata": {},
     "output_type": "execute_result"
    }
   ],
   "source": [
    "float(\"4.7\")"
   ]
  },
  {
   "cell_type": "code",
   "execution_count": 23,
   "metadata": {},
   "outputs": [
    {
     "data": {
      "text/plain": [
       "5"
      ]
     },
     "execution_count": 23,
     "metadata": {},
     "output_type": "execute_result"
    }
   ],
   "source": [
    "int(float(\"5.2\"))"
   ]
  },
  {
   "cell_type": "markdown",
   "metadata": {},
   "source": [
    "## 3. Input"
   ]
  },
  {
   "cell_type": "markdown",
   "metadata": {},
   "source": [
    "### Kullanıcıdan Input Almak\n",
    "* Kullanacağımız değerleri kullanıcıdan almak için <code>input()</code> fonksiyonunu kullanırız. \n",
    "* Fonksiyon içine girilen değeri **string** olarak tutar. Farklı tiplerde kullanım için **casting** gerektirir."
   ]
  },
  {
   "cell_type": "code",
   "execution_count": 28,
   "metadata": {},
   "outputs": [
    {
     "name": "stdout",
     "output_type": "stream",
     "text": [
      "Bir tam sayı giriniz: 37\n",
      "37\n"
     ]
    },
    {
     "data": {
      "text/plain": [
       "int"
      ]
     },
     "execution_count": 28,
     "metadata": {},
     "output_type": "execute_result"
    }
   ],
   "source": [
    "tam_sayi = int(input(\"Bir tam sayı giriniz: \"))\n",
    "print(tam_sayi)\n",
    "type(tam_sayi)"
   ]
  },
  {
   "cell_type": "code",
   "execution_count": 29,
   "metadata": {},
   "outputs": [
    {
     "name": "stdout",
     "output_type": "stream",
     "text": [
      "Bir ondalıklı sayı giriniz: 23.0\n",
      "23.0\n"
     ]
    },
    {
     "data": {
      "text/plain": [
       "float"
      ]
     },
     "execution_count": 29,
     "metadata": {},
     "output_type": "execute_result"
    }
   ],
   "source": [
    "ondalikli_sayi = float(input(\"Bir ondalıklı sayı giriniz: \"))\n",
    "print(ondalikli_sayi)\n",
    "type(ondalikli_sayi)"
   ]
  },
  {
   "cell_type": "code",
   "execution_count": 30,
   "metadata": {},
   "outputs": [
    {
     "name": "stdout",
     "output_type": "stream",
     "text": [
      "Bir yazı giriniz: Emin Baştürk\n",
      "Emin Baştürk\n"
     ]
    },
    {
     "data": {
      "text/plain": [
       "str"
      ]
     },
     "execution_count": 30,
     "metadata": {},
     "output_type": "execute_result"
    }
   ],
   "source": [
    "yazi = input(\"Bir yazı giriniz: \")\n",
    "print(yazi)\n",
    "type(yazi)"
   ]
  },
  {
   "cell_type": "markdown",
   "metadata": {},
   "source": [
    "<code>eval()</code>: içine ifade yazabildiğin bir fonksiyon"
   ]
  },
  {
   "cell_type": "code",
   "execution_count": 31,
   "metadata": {},
   "outputs": [
    {
     "data": {
      "text/plain": [
       "250"
      ]
     },
     "execution_count": 31,
     "metadata": {},
     "output_type": "execute_result"
    }
   ],
   "source": [
    "x = 3\n",
    "eval(\"x**5 + 7\")"
   ]
  },
  {
   "cell_type": "markdown",
   "metadata": {},
   "source": [
    "## 4. Koda Yorum Ekleme"
   ]
  },
  {
   "cell_type": "markdown",
   "metadata": {},
   "source": [
    "### 4. 1. Comments \n",
    "* Başkasının senin kodunu anlaması veya daha sonradan kendi kodunu anlamanı kolaylaştırmak adına **yorum satırları** kullanılır. \n",
    "* Yorumlar sadece insanların kodu anlamasını sağlar. Bilgisayar yorum satırlarını görmez. "
   ]
  },
  {
   "cell_type": "markdown",
   "metadata": {},
   "source": [
    "#### Tek Satırlık Yorum\n",
    "* Tek satır yorum yazmak için **#** kullanılır.\n",
    "* İşaretten sonra yazılan her şey yorum olarak algılanır."
   ]
  },
  {
   "cell_type": "code",
   "execution_count": 1,
   "metadata": {},
   "outputs": [],
   "source": [
    "# limon değişkeni satılan limonları ifade eder.\n",
    "limon = 2"
   ]
  },
  {
   "cell_type": "markdown",
   "metadata": {},
   "source": [
    "#### Çok Satırlı Yorum\n",
    "* Çok satırlı yorum yazmak için **\"\"\" \"\"\"** kullanılır.\n",
    "* Tırnakların arasına yazılan her şey yorum olarak algılanır."
   ]
  },
  {
   "cell_type": "code",
   "execution_count": 2,
   "metadata": {},
   "outputs": [
    {
     "data": {
      "text/plain": [
       "14"
      ]
     },
     "execution_count": 2,
     "metadata": {},
     "output_type": "execute_result"
    }
   ],
   "source": [
    "\"\"\"\n",
    "limon değişkeni satılan limonları,\n",
    "sonuc değişkeni bir haftada satılan limon sayısını ifade eder.\n",
    "\"\"\"\n",
    "limon = 2\n",
    "sonuc = limon * 7\n",
    "sonuc"
   ]
  },
  {
   "cell_type": "markdown",
   "metadata": {},
   "source": [
    "## 5. Koda Durumsallık Katmak"
   ]
  },
  {
   "cell_type": "markdown",
   "metadata": {},
   "source": [
    "### 5. 1. Sayısal Verilerde Karşılaştırma \n",
    "* Bir programın farklı durumlarda farklı davranışlar sergilemesini istediğin durumlarda programa bazı testler yapman gerekir.\n",
    "* Bu testler **comparison operators** (karşılaştırma operatörleri) ile yapılır.\n",
    "* İfadelerin sonuçlarının **True** ya da **False** olması beklenir. Her iki durum için de program farklı tasarlanabilir.\n",
    "\n",
    "#### Comparison Operators\n",
    "<code>==</code> İki değerin **eşitliğini** kontrol eden operatördür. İki değer birbirine eşit ise **True** değil ise **False** Döndürür."
   ]
  },
  {
   "cell_type": "code",
   "execution_count": 34,
   "metadata": {},
   "outputs": [
    {
     "data": {
      "text/plain": [
       "True"
      ]
     },
     "execution_count": 34,
     "metadata": {},
     "output_type": "execute_result"
    }
   ],
   "source": [
    "5 == 5"
   ]
  },
  {
   "cell_type": "code",
   "execution_count": 35,
   "metadata": {},
   "outputs": [
    {
     "data": {
      "text/plain": [
       "False"
      ]
     },
     "execution_count": 35,
     "metadata": {},
     "output_type": "execute_result"
    }
   ],
   "source": [
    "5 == 4"
   ]
  },
  {
   "cell_type": "markdown",
   "metadata": {},
   "source": [
    "<code>!=</code> İki değerin **eşitsizliğini** kontrol eden operatördür. İki değer birbirine eşit ise **False** değil ise **True** Döndürür."
   ]
  },
  {
   "cell_type": "code",
   "execution_count": 36,
   "metadata": {},
   "outputs": [
    {
     "data": {
      "text/plain": [
       "False"
      ]
     },
     "execution_count": 36,
     "metadata": {},
     "output_type": "execute_result"
    }
   ],
   "source": [
    "5 != 5"
   ]
  },
  {
   "cell_type": "code",
   "execution_count": 37,
   "metadata": {},
   "outputs": [
    {
     "data": {
      "text/plain": [
       "True"
      ]
     },
     "execution_count": 37,
     "metadata": {},
     "output_type": "execute_result"
    }
   ],
   "source": [
    "5 != 4"
   ]
  },
  {
   "cell_type": "markdown",
   "metadata": {},
   "source": [
    "<code>></code> Bir değerin diğer değerden **büyüklüğünü** kontrol eden operatördür. Birinci değer, ikinci değerden büyük ise **True**, eşit veya küçük ise **False** döndürür."
   ]
  },
  {
   "cell_type": "code",
   "execution_count": 38,
   "metadata": {},
   "outputs": [
    {
     "data": {
      "text/plain": [
       "False"
      ]
     },
     "execution_count": 38,
     "metadata": {},
     "output_type": "execute_result"
    }
   ],
   "source": [
    "5 > 5"
   ]
  },
  {
   "cell_type": "code",
   "execution_count": 39,
   "metadata": {},
   "outputs": [
    {
     "data": {
      "text/plain": [
       "True"
      ]
     },
     "execution_count": 39,
     "metadata": {},
     "output_type": "execute_result"
    }
   ],
   "source": [
    "5 > 4"
   ]
  },
  {
   "cell_type": "markdown",
   "metadata": {},
   "source": [
    "<code>>=</code> Bir değerin diğer değerden **büyüklüğünü veya eşitliğini** kontrol eden operatördür. Birinci değer, ikinci değerden büyük veya eşit ise **True**, küçük ise **False** döndürür."
   ]
  },
  {
   "cell_type": "code",
   "execution_count": 40,
   "metadata": {},
   "outputs": [
    {
     "data": {
      "text/plain": [
       "True"
      ]
     },
     "execution_count": 40,
     "metadata": {},
     "output_type": "execute_result"
    }
   ],
   "source": [
    "5 >= 5"
   ]
  },
  {
   "cell_type": "code",
   "execution_count": 41,
   "metadata": {},
   "outputs": [
    {
     "data": {
      "text/plain": [
       "False"
      ]
     },
     "execution_count": 41,
     "metadata": {},
     "output_type": "execute_result"
    }
   ],
   "source": [
    "5 > 6"
   ]
  },
  {
   "cell_type": "markdown",
   "metadata": {},
   "source": [
    "<code><</code> Bir değerin diğer değerden **küçüklüğünü** kontrol eden operatördür. Birinci değer, ikinci değerden küçük ise **True**, eşit veya büyük ise **False** döndürür."
   ]
  },
  {
   "cell_type": "code",
   "execution_count": 42,
   "metadata": {},
   "outputs": [
    {
     "data": {
      "text/plain": [
       "False"
      ]
     },
     "execution_count": 42,
     "metadata": {},
     "output_type": "execute_result"
    }
   ],
   "source": [
    "5 < 5"
   ]
  },
  {
   "cell_type": "code",
   "execution_count": 43,
   "metadata": {},
   "outputs": [
    {
     "data": {
      "text/plain": [
       "True"
      ]
     },
     "execution_count": 43,
     "metadata": {},
     "output_type": "execute_result"
    }
   ],
   "source": [
    "5 < 6"
   ]
  },
  {
   "cell_type": "markdown",
   "metadata": {},
   "source": [
    "<code><=</code> Bir değerin diğer değerden **küçüklüğünü veya eşitliğini** kontrol eden operatördür. Birinci değer, ikinci değerden küçük veya eşit ise **True**, büyük ise **False** döndürür."
   ]
  },
  {
   "cell_type": "code",
   "execution_count": 44,
   "metadata": {},
   "outputs": [
    {
     "data": {
      "text/plain": [
       "True"
      ]
     },
     "execution_count": 44,
     "metadata": {},
     "output_type": "execute_result"
    }
   ],
   "source": [
    "5 <= 5"
   ]
  },
  {
   "cell_type": "code",
   "execution_count": 45,
   "metadata": {},
   "outputs": [
    {
     "data": {
      "text/plain": [
       "False"
      ]
     },
     "execution_count": 45,
     "metadata": {},
     "output_type": "execute_result"
    }
   ],
   "source": [
    "5 <= 4"
   ]
  },
  {
   "cell_type": "markdown",
   "metadata": {},
   "source": [
    "**Floatlar ile karşılaştırma operatörleri ifade oluşturduğunda sonuç her zaman beklendiği gibi olmayabilir.**"
   ]
  },
  {
   "cell_type": "markdown",
   "metadata": {},
   "source": [
    "### 5. 2. Stringlerde Karşılaştırma"
   ]
  },
  {
   "cell_type": "markdown",
   "metadata": {},
   "source": [
    "* Sayısal karşılaştırmalara benzer şekilde yapılır.\n",
    "* İki stringin eşit olması için karakterlerinin tümünün aynı olması gerekir.\n",
    "* Büyüklük küçüklük ilişkisinde de **alfabetik** olarak kontrol edilir."
   ]
  },
  {
   "cell_type": "code",
   "execution_count": 46,
   "metadata": {},
   "outputs": [
    {
     "data": {
      "text/plain": [
       "False"
      ]
     },
     "execution_count": 46,
     "metadata": {},
     "output_type": "execute_result"
    }
   ],
   "source": [
    "\"Elma\" == \"elma\""
   ]
  },
  {
   "cell_type": "code",
   "execution_count": 47,
   "metadata": {},
   "outputs": [
    {
     "data": {
      "text/plain": [
       "True"
      ]
     },
     "execution_count": 47,
     "metadata": {},
     "output_type": "execute_result"
    }
   ],
   "source": [
    "\"Elma\" != \"elma\""
   ]
  },
  {
   "cell_type": "code",
   "execution_count": 50,
   "metadata": {},
   "outputs": [
    {
     "data": {
      "text/plain": [
       "True"
      ]
     },
     "execution_count": 50,
     "metadata": {},
     "output_type": "execute_result"
    }
   ],
   "source": [
    "\"b\" > \"a\""
   ]
  },
  {
   "cell_type": "code",
   "execution_count": 51,
   "metadata": {},
   "outputs": [
    {
     "data": {
      "text/plain": [
       "False"
      ]
     },
     "execution_count": 51,
     "metadata": {},
     "output_type": "execute_result"
    }
   ],
   "source": [
    "\"abd\" < \"abc\""
   ]
  },
  {
   "cell_type": "markdown",
   "metadata": {},
   "source": [
    "### 5. 3. Mantıksal Operatörler\n",
    "* İki karşılaştırma operatörlü ifadeyi **logical operators** (mantıksal operatörler) ile birleştirebilirsin."
   ]
  },
  {
   "cell_type": "markdown",
   "metadata": {},
   "source": [
    "#### Logical Operators\n",
    "<code>not</code>: İfadenin **olumsuzunu** alan operatör. True ise False, False ise True alır."
   ]
  },
  {
   "cell_type": "code",
   "execution_count": 52,
   "metadata": {},
   "outputs": [
    {
     "data": {
      "text/plain": [
       "False"
      ]
     },
     "execution_count": 52,
     "metadata": {},
     "output_type": "execute_result"
    }
   ],
   "source": [
    "not True"
   ]
  },
  {
   "cell_type": "code",
   "execution_count": 53,
   "metadata": {},
   "outputs": [
    {
     "data": {
      "text/plain": [
       "True"
      ]
     },
     "execution_count": 53,
     "metadata": {},
     "output_type": "execute_result"
    }
   ],
   "source": [
    "not 3 > 4"
   ]
  },
  {
   "cell_type": "markdown",
   "metadata": {},
   "source": [
    "<code>and</code>: Her iki ifade de True ise True, değilse False."
   ]
  },
  {
   "cell_type": "code",
   "execution_count": 54,
   "metadata": {},
   "outputs": [
    {
     "data": {
      "text/plain": [
       "False"
      ]
     },
     "execution_count": 54,
     "metadata": {},
     "output_type": "execute_result"
    }
   ],
   "source": [
    "True and False"
   ]
  },
  {
   "cell_type": "code",
   "execution_count": 59,
   "metadata": {},
   "outputs": [
    {
     "data": {
      "text/plain": [
       "True"
      ]
     },
     "execution_count": 59,
     "metadata": {},
     "output_type": "execute_result"
    }
   ],
   "source": [
    "(3 > 2) and (-1 < 0)"
   ]
  },
  {
   "cell_type": "markdown",
   "metadata": {},
   "source": [
    "<code>or</code>: Her iki ifade de False ise False, değilse True."
   ]
  },
  {
   "cell_type": "code",
   "execution_count": 60,
   "metadata": {},
   "outputs": [
    {
     "data": {
      "text/plain": [
       "True"
      ]
     },
     "execution_count": 60,
     "metadata": {},
     "output_type": "execute_result"
    }
   ],
   "source": [
    "True or False"
   ]
  },
  {
   "cell_type": "code",
   "execution_count": 61,
   "metadata": {},
   "outputs": [
    {
     "data": {
      "text/plain": [
       "False"
      ]
     },
     "execution_count": 61,
     "metadata": {},
     "output_type": "execute_result"
    }
   ],
   "source": [
    "(2.1 > 3) or (\"Emin\" == \"emin\")"
   ]
  },
  {
   "cell_type": "markdown",
   "metadata": {},
   "source": [
    "### 5. 4. Short Circuit\n",
    "* Mantıksal ifadeler kontrol edilirken ifadeler;\n",
    "    * **and** ile birleştiriliyor ise, ilk ifade **False** ise bilgisayar diğer ifadelere bakmaya gerek duymaz.\n",
    "    * **or** ile birleşitirliyor ise, ilk ifade **True** ise bilgisayar diğer ifadelere bakmaya gerek duymaz.\n",
    "    * Buna **short circuit** denir."
   ]
  },
  {
   "cell_type": "code",
   "execution_count": 68,
   "metadata": {},
   "outputs": [
    {
     "data": {
      "text/plain": [
       "False"
      ]
     },
     "execution_count": 68,
     "metadata": {},
     "output_type": "execute_result"
    }
   ],
   "source": [
    "# ilk ifade False olduğu için diğer ifadeye bakmadı.\n",
    "(3 < 2) and print(\"Heyo\")"
   ]
  },
  {
   "cell_type": "code",
   "execution_count": 69,
   "metadata": {},
   "outputs": [
    {
     "name": "stdout",
     "output_type": "stream",
     "text": [
      "Heyo\n"
     ]
    }
   ],
   "source": [
    "# ilk ifade True olduğu için diğer ifadeye baktı.\n",
    "(3 > 2) and print(\"Heyo\")"
   ]
  },
  {
   "cell_type": "code",
   "execution_count": 70,
   "metadata": {},
   "outputs": [
    {
     "data": {
      "text/plain": [
       "True"
      ]
     },
     "execution_count": 70,
     "metadata": {},
     "output_type": "execute_result"
    }
   ],
   "source": [
    "# ilk ifade True olduğu için diğer ifadeye bakmadı.\n",
    "(3 > 2) or print(\"Heyo\")"
   ]
  },
  {
   "cell_type": "code",
   "execution_count": 71,
   "metadata": {},
   "outputs": [
    {
     "name": "stdout",
     "output_type": "stream",
     "text": [
      "Heyo\n"
     ]
    }
   ],
   "source": [
    "# ilk ifade False olduğu için diğer ifadeye baktı.\n",
    "(3 < 2) or print(\"Heyo\")"
   ]
  },
  {
   "cell_type": "markdown",
   "metadata": {},
   "source": [
    "#### & ve |\n",
    "* Eğer bir mantıksal bir ifadeye short circuit uygulanmasın istiyorsan **and** yerine **&**, **or** yerine **|** kullanman gerekir.\n",
    "* Ancak bu operatörler print fonksiyonunun bool döndürmemesine takıldığı için **hata** döndürür."
   ]
  },
  {
   "cell_type": "code",
   "execution_count": 73,
   "metadata": {},
   "outputs": [
    {
     "data": {
      "text/plain": [
       "True"
      ]
     },
     "execution_count": 73,
     "metadata": {},
     "output_type": "execute_result"
    }
   ],
   "source": [
    "(2 == 2) | (3 < 3)"
   ]
  },
  {
   "cell_type": "code",
   "execution_count": 74,
   "metadata": {},
   "outputs": [
    {
     "name": "stdout",
     "output_type": "stream",
     "text": [
      "Heyo\n"
     ]
    },
    {
     "ename": "TypeError",
     "evalue": "unsupported operand type(s) for &: 'bool' and 'NoneType'",
     "output_type": "error",
     "traceback": [
      "\u001b[1;31m---------------------------------------------------------------------------\u001b[0m",
      "\u001b[1;31mTypeError\u001b[0m                                 Traceback (most recent call last)",
      "\u001b[1;32m<ipython-input-74-c859a4757ff1>\u001b[0m in \u001b[0;36m<module>\u001b[1;34m\u001b[0m\n\u001b[1;32m----> 1\u001b[1;33m \u001b[1;33m(\u001b[0m\u001b[1;36m5\u001b[0m \u001b[1;33m<\u001b[0m \u001b[1;36m3\u001b[0m\u001b[1;33m)\u001b[0m \u001b[1;33m&\u001b[0m \u001b[0mprint\u001b[0m\u001b[1;33m(\u001b[0m\u001b[1;34m\"Heyo\"\u001b[0m\u001b[1;33m)\u001b[0m\u001b[1;33m\u001b[0m\u001b[1;33m\u001b[0m\u001b[0m\n\u001b[0m",
      "\u001b[1;31mTypeError\u001b[0m: unsupported operand type(s) for &: 'bool' and 'NoneType'"
     ]
    }
   ],
   "source": [
    "(5 < 3) & print(\"Heyo\")"
   ]
  },
  {
   "cell_type": "markdown",
   "metadata": {},
   "source": [
    "## 6. Koşullar"
   ]
  },
  {
   "cell_type": "markdown",
   "metadata": {},
   "source": [
    "### 6. 1. if - else - elif\n",
    "#### Branching (Programı Dallandırma)\n",
    "* Programlar ifadelerin **True** ve **False** sonuçlarına göre dallanabilir.\n",
    "#### if\n",
    "* Eğer ifadenin değeri **True** ise **if** denilen kod bloğunda işlemler gerçekleştirilir.\n",
    "#### elif\n",
    "* Eğer ifadenin değeri **False** ise başka bir ifadeye bakmak için **elif** kod bloğu açılır.\n",
    "#### else\n",
    "* Eğer bütün ifadelerin değeri **False** ise **else** kod bloğu çalıştırılır."
   ]
  },
  {
   "cell_type": "code",
   "execution_count": 75,
   "metadata": {},
   "outputs": [
    {
     "name": "stdout",
     "output_type": "stream",
     "text": [
      "Bir sayı girin: 5\n",
      "Sayı 10'dan küçük\n",
      "Programınız sona ulaştı\n"
     ]
    }
   ],
   "source": [
    "x = int(input(\"Bir sayı girin: \"))\n",
    "\n",
    "if x < 10:\n",
    "    print(\"Sayı 10'dan küçük\")\n",
    "\n",
    "elif x == 10:\n",
    "    print(\"Sayı 10'a eşit\")\n",
    "    \n",
    "else:\n",
    "    print(\"Sayı 10'dan büyük\")\n",
    "    \n",
    "print(\"Programınız sona ulaştı\")"
   ]
  },
  {
   "cell_type": "markdown",
   "metadata": {},
   "source": [
    "#### Nested if\n",
    "* if, elif ve else kod bloklarının içine yeni if, elif ve else blokları açılabilir. Buna **nested if** (iç içe if) denir."
   ]
  },
  {
   "cell_type": "markdown",
   "metadata": {},
   "source": [
    "**if ve elif'lerde mantıksal operatör kullanacaksan ifadeleri parantez içine al!**"
   ]
  },
  {
   "cell_type": "markdown",
   "metadata": {},
   "source": [
    "### 6. 2. Ternary Conditionals\n",
    "* if-else mantığını tek satırda yazmamızı sağlayan tekniğe **ternary conditionals** denir."
   ]
  },
  {
   "cell_type": "code",
   "execution_count": 76,
   "metadata": {},
   "outputs": [
    {
     "name": "stdout",
     "output_type": "stream",
     "text": [
      "x: 7\n",
      "Tek\n"
     ]
    }
   ],
   "source": [
    "x = int(input(\"x: \"))\n",
    "print(\"Çift\") if x % 2 == 0 else print(\"Tek\")"
   ]
  },
  {
   "cell_type": "markdown",
   "metadata": {},
   "source": [
    "## 7. Döngüler"
   ]
  },
  {
   "cell_type": "markdown",
   "metadata": {},
   "source": [
    "### 7. 1. Döngüler\n",
    "* Bir işlemi birden çok kez yapmak istediğinde kullanacağın yapılardır."
   ]
  },
  {
   "cell_type": "markdown",
   "metadata": {},
   "source": [
    "### 7. 2. while\n",
    "* **while** bloğunun içine yazılan kodlar ifade **True** olduğu sürece çalışır."
   ]
  },
  {
   "cell_type": "code",
   "execution_count": 78,
   "metadata": {},
   "outputs": [
    {
     "name": "stdout",
     "output_type": "stream",
     "text": [
      "Pozitif bir sayı gir: -9\n",
      "Girdiğin sayı negatif ve değeri: -9\n",
      "Pozitif bir sayı gir: 0\n",
      "Girdiğin sayı sıfır\n",
      "Pozitif bir sayı gir: -5\n",
      "Girdiğin sayı negatif ve değeri: -5\n",
      "Pozitif bir sayı gir: -9\n",
      "Girdiğin sayı negatif ve değeri: -9\n",
      "Pozitif bir sayı gir: -2\n",
      "Girdiğin sayı negatif ve değeri: -2\n",
      "Pozitif bir sayı gir: +2\n",
      "Girdiğin sayı pozitif ve değeri: 2\n"
     ]
    }
   ],
   "source": [
    "x = int(input(\"Pozitif bir sayı gir: \"))\n",
    "while x <= 0:\n",
    "    if x == 0:\n",
    "        print(\"Girdiğin sayı sıfır\")\n",
    "    else:\n",
    "        print(\"Girdiğin sayı negatif ve değeri: \" + str(x))\n",
    "    x = int(input(\"Pozitif bir sayı gir: \"))\n",
    "print(\"Girdiğin sayı pozitif ve değeri: \" + str(x))"
   ]
  },
  {
   "cell_type": "markdown",
   "metadata": {},
   "source": [
    "**Döngünün içinde ifadeyi güncelleyecek bir kodlama yapman lazım. Aksi takdirde sonsuz döngüye girilir!**"
   ]
  },
  {
   "cell_type": "code",
   "execution_count": 3,
   "metadata": {
    "scrolled": true
   },
   "outputs": [
    {
     "name": "stdout",
     "output_type": "stream",
     "text": [
      "0\n",
      "0\n"
     ]
    }
   ],
   "source": [
    "toplam = 0\n",
    "x = 0\n",
    "\n",
    "while x <=100:\n",
    "    toplam += x\n",
    "    print(x)\n",
    "    break # Notta sonsuz döngü gözükmemesi için\n",
    "\n",
    "print(toplam)"
   ]
  },
  {
   "cell_type": "markdown",
   "metadata": {},
   "source": [
    "### 7. 3. for\n",
    "* **for** döngüsü **in**'den sonra yazılan yapının bütün değerleri üzerinde dolanır ve eleman sayısı kadar içindeki kodu çalıştırır. Verilen değişken her iterasyonda yazılan yapının alt elemanlarını alır."
   ]
  },
  {
   "cell_type": "code",
   "execution_count": 80,
   "metadata": {},
   "outputs": [
    {
     "name": "stdout",
     "output_type": "stream",
     "text": [
      "h\n",
      "e\n",
      "y\n"
     ]
    }
   ],
   "source": [
    "for c in \"hey\":\n",
    "    print(c)"
   ]
  },
  {
   "cell_type": "markdown",
   "metadata": {},
   "source": [
    "<code>range()</code>: for döngüsünün kaç kez ve hangi değişkenlere göre döneceğini belirleyen fonksiyon."
   ]
  },
  {
   "cell_type": "code",
   "execution_count": 81,
   "metadata": {},
   "outputs": [
    {
     "name": "stdout",
     "output_type": "stream",
     "text": [
      "0\n",
      "1\n",
      "2\n",
      "3\n",
      "4\n"
     ]
    }
   ],
   "source": [
    "for i in range(5):\n",
    "    print(i)"
   ]
  },
  {
   "cell_type": "markdown",
   "metadata": {},
   "source": [
    "**Eğer kod bloğunun içinde değişkeni kullanmayacaksan değişkeni <code>_</code> yap.**"
   ]
  },
  {
   "cell_type": "markdown",
   "metadata": {},
   "source": [
    "* for döngüsü while ile yazılabilir, ancak while döngüsü for ile yazılamaz. Çünkü for'da kontrol mekanizması yoktur."
   ]
  },
  {
   "cell_type": "markdown",
   "metadata": {},
   "source": [
    "### 7. 4. break & continue"
   ]
  },
  {
   "cell_type": "markdown",
   "metadata": {},
   "source": [
    "#### break\n",
    "* Belirli bir şart sağlandığında döngüden aniden çıkmak için **break** kullanılır."
   ]
  },
  {
   "cell_type": "code",
   "execution_count": 83,
   "metadata": {},
   "outputs": [
    {
     "name": "stdout",
     "output_type": "stream",
     "text": [
      "0\n",
      "1\n",
      "2\n"
     ]
    }
   ],
   "source": [
    "# i = 3 olduğu zaman döngüden çık\n",
    "for i in range(10):\n",
    "    if i == 3:\n",
    "        break\n",
    "    print(i)"
   ]
  },
  {
   "cell_type": "markdown",
   "metadata": {},
   "source": [
    "#### continue\n",
    "* Belirli bir şart sağlandığında bir sonraki iterasyondan devam etmek için **continue** kullanılır."
   ]
  },
  {
   "cell_type": "code",
   "execution_count": 84,
   "metadata": {
    "scrolled": true
   },
   "outputs": [
    {
     "name": "stdout",
     "output_type": "stream",
     "text": [
      "0\n",
      "1\n",
      "2\n",
      "4\n",
      "5\n",
      "6\n",
      "7\n",
      "8\n",
      "9\n"
     ]
    }
   ],
   "source": [
    "# i = 3 olduğu zaman bir sonraki iterasyona git.\n",
    "for i in range(10):\n",
    "    if i == 3:\n",
    "        continue\n",
    "    print(i)"
   ]
  },
  {
   "cell_type": "markdown",
   "metadata": {},
   "source": [
    "## 8. Non-Scalar Veri Tipleri"
   ]
  },
  {
   "cell_type": "markdown",
   "metadata": {},
   "source": [
    "### 8. 1. List"
   ]
  },
  {
   "cell_type": "markdown",
   "metadata": {},
   "source": [
    "* Slicing ile atama işlemi yaparken slicingde ne kadar sayı aldığının bir önemi yok. Atamada istediğin kadar eleman ekleyebilirsin. Eğer 1 tane eleman ekleyeceksen liste içinde yazman gerekir."
   ]
  },
  {
   "cell_type": "code",
   "execution_count": 1,
   "metadata": {},
   "outputs": [
    {
     "data": {
      "text/plain": [
       "[3, 4, 5]"
      ]
     },
     "execution_count": 1,
     "metadata": {},
     "output_type": "execute_result"
    }
   ],
   "source": [
    "liste = [1, 2, 3, 4, 5]\n",
    "liste[:3] = [3]\n",
    "liste"
   ]
  },
  {
   "cell_type": "markdown",
   "metadata": {},
   "source": [
    "* Listelerin sonuna <code>.append()</code> metodu ile eleman ekleyebilirsin.\n",
    "* Birden çok eleman eklemek için <code>.extend()</code> metodunu kullanabilirsin.\n",
    "* Listelere indexe göre eleman eklemek için <code>.insert()</code> metodunu kullanırsın.\n",
    "* Listelerden eleman silmek için <code>.remove()</code> metodu kullanılır. Listede aynı elemandan birden fazla varsa sadece ilk elemanı siler.\n",
    "* Listelerden indexe göre eleman silmek için <code>.pop()</code> kullanırsın. Aynı zamanda silinen değeri döndürür.\n",
    "* Listedeki elemandan kaç tane olduğunu <code>.count()</code> ile bulabilirsin. "
   ]
  },
  {
   "cell_type": "markdown",
   "metadata": {},
   "source": [
    "#### Aliasing\n",
    "* Listeler etiketler ile tanımlanır. Bir listeden kopya oluşturmak istediğinde yeni bir atama yaparsan oluşturduğun yeni liste eskisi ile aynı değeri gösterir. Yeni listede değişiklik yaptığında eski liste de etkilenir.\n",
    "* Bunun önüne <code>.copy()</code> ile geçebilirsin."
   ]
  },
  {
   "cell_type": "markdown",
   "metadata": {},
   "source": [
    "* Listeleri toplayarak birbirine yapıştırabilirsin.\n",
    "* Listedeki elemanın indexine erişmek için <code>.index()</code> kullanılır. İlk elemanın indexini verir.\n",
    "* Listedeki elemanları tersine çevirmek için <code>.reverse()</code> kullanılır. Slicing ile de yapılabilir.\n",
    "* Listedeki elemanları sayısalda küçükten büyüğe, harflerde de alfabeye göre sıralamak için <code>sorted()</code> fonksiyonu(inplace değil) veya <code>.sort()</code> metodu(inplace) kullanılır.\n",
    "* Sayısal değerler ile stringler sıralanamaz!"
   ]
  },
  {
   "cell_type": "markdown",
   "metadata": {},
   "source": [
    "### 8. 2. Tuple\n",
    "* Listelerde değişiklik yapmak istemediğinde kullanırsın.\n",
    "* Tuple'lar immutable'dır. Diğer özellikleri listeyle aynıdır."
   ]
  },
  {
   "cell_type": "markdown",
   "metadata": {},
   "source": [
    "* Değişkenleri birbirlerine atamada işe yarar. Listelerde de bu yapılabilir."
   ]
  },
  {
   "cell_type": "code",
   "execution_count": 5,
   "metadata": {},
   "outputs": [
    {
     "name": "stdout",
     "output_type": "stream",
     "text": [
      "3\n",
      "2\n"
     ]
    }
   ],
   "source": [
    "x = 2\n",
    "y = 3\n",
    "(x, y) = (y, x)\n",
    "print(x)\n",
    "print(y)"
   ]
  },
  {
   "cell_type": "markdown",
   "metadata": {},
   "source": [
    "* Parantez koymadan da tanımlama yapılabilir. O nedenle değişkenleri birbirlerine atamada da koymasan olur."
   ]
  },
  {
   "cell_type": "code",
   "execution_count": 5,
   "metadata": {},
   "outputs": [
    {
     "data": {
      "text/plain": [
       "(1, 2, 3, 4)"
      ]
     },
     "execution_count": 5,
     "metadata": {},
     "output_type": "execute_result"
    }
   ],
   "source": [
    "z = 1, 2, 3, 4\n",
    "z"
   ]
  },
  {
   "cell_type": "markdown",
   "metadata": {},
   "source": [
    "### 8. 3. in\n",
    "* Liste veya tupleda istenilen eleman var mı yok mu diye sorgulama yapmaya yarayan sözcüğe **in** denir."
   ]
  },
  {
   "cell_type": "code",
   "execution_count": 6,
   "metadata": {},
   "outputs": [
    {
     "data": {
      "text/plain": [
       "True"
      ]
     },
     "execution_count": 6,
     "metadata": {},
     "output_type": "execute_result"
    }
   ],
   "source": [
    "2 in z"
   ]
  },
  {
   "cell_type": "code",
   "execution_count": 7,
   "metadata": {},
   "outputs": [
    {
     "data": {
      "text/plain": [
       "False"
      ]
     },
     "execution_count": 7,
     "metadata": {},
     "output_type": "execute_result"
    }
   ],
   "source": [
    "10 in z"
   ]
  },
  {
   "cell_type": "markdown",
   "metadata": {},
   "source": [
    "### 8. 4. set\n",
    "* Küme mantığı gibi çalışır. Indexlenemez.\n",
    "* Sadece benzersiz değerler içerir. \n",
    "* Sete eleman ekleme işlemi <code>.add()</code> metodu ile yapılır.\n",
    "* Setten eleman silme işlemi <code>.remove()</code> metodu ve <code>.discard()</code> ile yapılır. İlki sette o eleman yoksa hata verir, ikincisi hata vermez."
   ]
  },
  {
   "cell_type": "code",
   "execution_count": 8,
   "metadata": {},
   "outputs": [],
   "source": [
    "s1 = {1, 5, 10}\n",
    "s2 = {2, 3, 5}"
   ]
  },
  {
   "cell_type": "markdown",
   "metadata": {},
   "source": [
    "#### Difference\n",
    "* İki kümenin farkını veren metot: <code>.difference()</code>"
   ]
  },
  {
   "cell_type": "code",
   "execution_count": 9,
   "metadata": {},
   "outputs": [
    {
     "data": {
      "text/plain": [
       "{1, 10}"
      ]
     },
     "execution_count": 9,
     "metadata": {},
     "output_type": "execute_result"
    }
   ],
   "source": [
    "s1.difference(s2)"
   ]
  },
  {
   "cell_type": "code",
   "execution_count": 10,
   "metadata": {},
   "outputs": [
    {
     "data": {
      "text/plain": [
       "{1, 10}"
      ]
     },
     "execution_count": 10,
     "metadata": {},
     "output_type": "execute_result"
    }
   ],
   "source": [
    "s1 - s2"
   ]
  },
  {
   "cell_type": "markdown",
   "metadata": {},
   "source": [
    "#### Symmetric Difference\n",
    "* Kesişim hariç birleşimi veren metot: <code>.symmetric_difference()</code>\n"
   ]
  },
  {
   "cell_type": "code",
   "execution_count": 11,
   "metadata": {},
   "outputs": [
    {
     "data": {
      "text/plain": [
       "{1, 2, 3, 10}"
      ]
     },
     "execution_count": 11,
     "metadata": {},
     "output_type": "execute_result"
    }
   ],
   "source": [
    "s1.symmetric_difference(s2)"
   ]
  },
  {
   "cell_type": "code",
   "execution_count": 15,
   "metadata": {},
   "outputs": [
    {
     "data": {
      "text/plain": [
       "{1, 2, 3, 10}"
      ]
     },
     "execution_count": 15,
     "metadata": {},
     "output_type": "execute_result"
    }
   ],
   "source": [
    "(s1 | s2) - (s1 & s2)"
   ]
  },
  {
   "cell_type": "markdown",
   "metadata": {},
   "source": [
    "#### Intersection\n",
    "* Kesişimi verir: <code>.intersection()</code>\n",
    "* Kesişimi bir kümeye eşitlemek için kullanılır: <code>.intersection_update()</code>"
   ]
  },
  {
   "cell_type": "code",
   "execution_count": 13,
   "metadata": {},
   "outputs": [
    {
     "data": {
      "text/plain": [
       "{5}"
      ]
     },
     "execution_count": 13,
     "metadata": {},
     "output_type": "execute_result"
    }
   ],
   "source": [
    "s1.intersection(s2)"
   ]
  },
  {
   "cell_type": "code",
   "execution_count": 14,
   "metadata": {},
   "outputs": [
    {
     "data": {
      "text/plain": [
       "{5}"
      ]
     },
     "execution_count": 14,
     "metadata": {},
     "output_type": "execute_result"
    }
   ],
   "source": [
    "s1 & s2"
   ]
  },
  {
   "cell_type": "markdown",
   "metadata": {},
   "source": [
    "#### Union\n",
    "* Birleşimi verir: <code>.union()"
   ]
  },
  {
   "cell_type": "code",
   "execution_count": 16,
   "metadata": {},
   "outputs": [
    {
     "data": {
      "text/plain": [
       "{1, 2, 3, 5, 10}"
      ]
     },
     "execution_count": 16,
     "metadata": {},
     "output_type": "execute_result"
    }
   ],
   "source": [
    "s1.union(s2)"
   ]
  },
  {
   "cell_type": "code",
   "execution_count": 17,
   "metadata": {},
   "outputs": [
    {
     "data": {
      "text/plain": [
       "{1, 2, 3, 5, 10}"
      ]
     },
     "execution_count": 17,
     "metadata": {},
     "output_type": "execute_result"
    }
   ],
   "source": [
    "s1 | s2"
   ]
  },
  {
   "cell_type": "markdown",
   "metadata": {},
   "source": [
    "#### Disjoint\n",
    "* İki kümenin kesişimlerinin boş olup olmadığını kontrol eder: <code>.isdisjoint()</code>"
   ]
  },
  {
   "cell_type": "code",
   "execution_count": 18,
   "metadata": {},
   "outputs": [
    {
     "data": {
      "text/plain": [
       "False"
      ]
     },
     "execution_count": 18,
     "metadata": {},
     "output_type": "execute_result"
    }
   ],
   "source": [
    "s1.isdisjoint(s2)"
   ]
  },
  {
   "cell_type": "markdown",
   "metadata": {},
   "source": [
    "#### Subset\n",
    "* Bir kümenin diğer kümenin alt kümesi olup olmadığını kontrol eder: <code>.issubset()</code>"
   ]
  },
  {
   "cell_type": "code",
   "execution_count": 19,
   "metadata": {},
   "outputs": [
    {
     "data": {
      "text/plain": [
       "False"
      ]
     },
     "execution_count": 19,
     "metadata": {},
     "output_type": "execute_result"
    }
   ],
   "source": [
    "s1.issubset(s2)"
   ]
  },
  {
   "cell_type": "markdown",
   "metadata": {},
   "source": [
    "#### Superset\n",
    "* Bir kümenin diğer kümenin üst kümesi olup olmadığını kontrol eder: <code>.issuperset()</code>"
   ]
  },
  {
   "cell_type": "code",
   "execution_count": 20,
   "metadata": {},
   "outputs": [
    {
     "data": {
      "text/plain": [
       "False"
      ]
     },
     "execution_count": 20,
     "metadata": {},
     "output_type": "execute_result"
    }
   ],
   "source": [
    "s1.issuperset(s2)"
   ]
  },
  {
   "cell_type": "markdown",
   "metadata": {},
   "source": [
    "### 8. 5. Dictionary\n",
    "* Sözlükten eleman silmek için **del** kullanılır."
   ]
  },
  {
   "cell_type": "markdown",
   "metadata": {},
   "source": [
    "### 8. 6. Non-Scalar For\n",
    "* Listelerde elemanlara tek tek erişebilirsin. Listenin uzunluğunu range fonksiyonuna koyup indexlerine de erişebilirsin.\n",
    "* Tuplelar listeler gibi çalışır.\n",
    "* Sözlüklere doğrudan in dersen keylere erişirsin, .values() kullanarak değerlere erişirsin, .items() kullanarak ikililere erişirsin."
   ]
  },
  {
   "cell_type": "markdown",
   "metadata": {},
   "source": [
    "### 8. 7. split() ve join()"
   ]
  },
  {
   "cell_type": "markdown",
   "metadata": {},
   "source": [
    "#### split()\n",
    "* Stringleri bazı karakterlere göre listelere dönüştürebilirsin. \n",
    "* Bunu <code>.split()</code> metodu sağlar.\n",
    "* Default olarak boşluğa göre ayırır ama istediğin karakteri de verebilirsin."
   ]
  },
  {
   "cell_type": "code",
   "execution_count": 23,
   "metadata": {},
   "outputs": [
    {
     "data": {
      "text/plain": [
       "['Junior', 'Data', 'Scientist']"
      ]
     },
     "execution_count": 23,
     "metadata": {},
     "output_type": "execute_result"
    }
   ],
   "source": [
    "meslek = \"Junior Data Scientist\"\n",
    "meslek.split(\" \")"
   ]
  },
  {
   "cell_type": "markdown",
   "metadata": {},
   "source": [
    "#### join()\n",
    "* Listelerdeki elemanları belirli bir karaktere göre birleştirerek string haline getirebilirsin.\n",
    "* Bunu <code>.join()</code> metodu sağlar."
   ]
  },
  {
   "cell_type": "code",
   "execution_count": 24,
   "metadata": {
    "scrolled": true
   },
   "outputs": [
    {
     "data": {
      "text/plain": [
       "'Emin Baştürk'"
      ]
     },
     "execution_count": 24,
     "metadata": {},
     "output_type": "execute_result"
    }
   ],
   "source": [
    "isim = [\"Emin\", \"Baştürk\"]\n",
    "\" \".join(isim)"
   ]
  },
  {
   "cell_type": "markdown",
   "metadata": {},
   "source": [
    "### 8. 8. List Comprehension\n",
    "* Döngüler ve koşullar ile liste oluşturmaya yarayan tekniktir.\n",
    "* Set Comprehension veya Dictionary Comprehension da yapabilirsin.\n",
    "* Fonksiyonlar, iç içe döngüler, iç içe listeler gibi yapılarla da kullanılabilir."
   ]
  },
  {
   "cell_type": "markdown",
   "metadata": {},
   "source": [
    "### 8. 9. Variable Unpacking\n",
    "* Aynı satırda birden fazla atama işlemi yapabilirsin."
   ]
  },
  {
   "cell_type": "code",
   "execution_count": 2,
   "metadata": {},
   "outputs": [
    {
     "name": "stdout",
     "output_type": "stream",
     "text": [
      "4\n",
      "6\n"
     ]
    }
   ],
   "source": [
    "x, y = 4, 6\n",
    "print(x)\n",
    "print(y)"
   ]
  },
  {
   "cell_type": "markdown",
   "metadata": {},
   "source": [
    "* Eğer sadece 1 değer kullanmak istersen diğer değeri <code>_</code> ile kapatırsın."
   ]
  },
  {
   "cell_type": "code",
   "execution_count": 3,
   "metadata": {},
   "outputs": [
    {
     "name": "stdout",
     "output_type": "stream",
     "text": [
      "5\n"
     ]
    }
   ],
   "source": [
    "x, _ = 5, 8\n",
    "print(x)"
   ]
  },
  {
   "cell_type": "markdown",
   "metadata": {},
   "source": [
    "* Soldaki ve sağdaki yapı farklıysa, bazı değerleri tek tek atadıktan sonra kalanları bir **liste** olarak atama yapabilirsin. Bunu <code>*</code> ile yaparsın. <code>*</code>'ın nerede olduğu fark etmez. Yapılar arasında tekli atamalar yapıldıktan sonra kalanlar yıldızlı değişken üzerinde toplanır."
   ]
  },
  {
   "cell_type": "code",
   "execution_count": 4,
   "metadata": {},
   "outputs": [
    {
     "name": "stdout",
     "output_type": "stream",
     "text": [
      "3\n",
      "4\n",
      "[5, 6, 7]\n"
     ]
    }
   ],
   "source": [
    "x, y, *z = 3, 4, 5, 6, 7\n",
    "print(x)\n",
    "print(y)\n",
    "print(z)"
   ]
  },
  {
   "cell_type": "markdown",
   "metadata": {},
   "source": [
    "### 8. 10. enumerate & zip"
   ]
  },
  {
   "cell_type": "markdown",
   "metadata": {},
   "source": [
    "#### <code>enumerate()</code>\n",
    "* Listelerdeki elemanları döngüler içinde tek tek indexleri ile beraber verilmesini sağlayan fonksiyon. İstersen **start** argümanı ile kaçtan başlayacağını da yazabilirsin."
   ]
  },
  {
   "cell_type": "code",
   "execution_count": 9,
   "metadata": {},
   "outputs": [
    {
     "name": "stdout",
     "output_type": "stream",
     "text": [
      "1: Tyler\n",
      "2: Blake\n",
      "3: Cory\n",
      "4: Cameron\n"
     ]
    }
   ],
   "source": [
    "isimler = [\"Tyler\", \"Blake\", \"Cory\", \"Cameron\"]\n",
    "for i, d in enumerate(isimler, start = 1):\n",
    "    print(str(i) + \": \" + d)"
   ]
  },
  {
   "cell_type": "markdown",
   "metadata": {},
   "source": [
    "#### <code>zip()</code>\n",
    "* İki listeyi birleştirip paralel iterasyon yapılmasını sağlayan fonksiyon."
   ]
  },
  {
   "cell_type": "code",
   "execution_count": 10,
   "metadata": {},
   "outputs": [
    {
     "name": "stdout",
     "output_type": "stream",
     "text": [
      "ogrenci_1 90\n",
      "ogrenci_2 80\n",
      "ogrenci_3 72\n"
     ]
    }
   ],
   "source": [
    "ogrenciler = [\"ogrenci_1\", \"ogrenci_2\", \"ogrenci_3\"]\n",
    "notlar = [90,80,72]\n",
    "for s, g in zip(ogrenciler, notlar):\n",
    "    print(s, g)"
   ]
  },
  {
   "cell_type": "markdown",
   "metadata": {},
   "source": [
    "**İki listeden sözlük yapmak için de kullanabilirsin**"
   ]
  },
  {
   "cell_type": "code",
   "execution_count": 12,
   "metadata": {},
   "outputs": [
    {
     "data": {
      "text/plain": [
       "{'ogrenci_1': 90, 'ogrenci_2': 80, 'ogrenci_3': 72}"
      ]
     },
     "execution_count": 12,
     "metadata": {},
     "output_type": "execute_result"
    }
   ],
   "source": [
    "ogrenci_notlari = {}\n",
    "for s, g in zip(ogrenciler, notlar):\n",
    "    ogrenci_notlari[s] = g\n",
    "ogrenci_notlari"
   ]
  },
  {
   "cell_type": "markdown",
   "metadata": {},
   "source": [
    "## 9. Fonksiyonlar"
   ]
  },
  {
   "cell_type": "markdown",
   "metadata": {},
   "source": [
    "### 9. 1. Fonksiyonlar\n",
    "* Bir kod bütünü yazdığın zaman bunu tekrar tekrar kullanmanı sağlayan yapılara fonksiyon denir. \n",
    "* Fonksiyonlar **abstraction**(soyutlama) ve **decomposition**(problemi küçük parçalara ayırma)(modülerlik)'a olanak tanır."
   ]
  },
  {
   "cell_type": "markdown",
   "metadata": {},
   "source": [
    "#### Abstraction\n",
    "* Bir işlemin bütününü düşünmek. Arabayı kullanmak için arabanın nasıl çalıştığının ayrıntısını bilmene gerek yok. Direksiyon ve pedalı nasıl kontrol edeceğini bilmen yeter.\n",
    "* Fonksiyonunu o işi nasıl yaptığıyla ne yaptığını ayırıp, ne yaptığına odaklanmak asıl amaç."
   ]
  },
  {
   "cell_type": "markdown",
   "metadata": {},
   "source": [
    "#### Decomposition\n",
    "* Eldeki problemi daha küçük parçalara bölerek hepsi üzerine tek tek odaklanmak.\n",
    "* Arabanın çalışması fonksiyonunun alt parçalarında motorun ateşlenmesi, yakıtın aktarılması gibi alt fonksiyonlar bulunur."
   ]
  },
  {
   "cell_type": "markdown",
   "metadata": {},
   "source": [
    "### 9. 2. return\n",
    "* Bir fonksiyona verilen input'tan output elde etmek için **return** komutu kullanılır. \n",
    "* Fonksiyonlar içinde if, for gibi yapılar kullanılabilir.\n",
    "* Fonksiyon değer döndürmek zorunda değildir ama içimde işlem her türlü gerçekleşir."
   ]
  },
  {
   "cell_type": "code",
   "execution_count": 13,
   "metadata": {},
   "outputs": [],
   "source": [
    "def kare(x):\n",
    "    return x ** 2"
   ]
  },
  {
   "cell_type": "code",
   "execution_count": 14,
   "metadata": {},
   "outputs": [
    {
     "data": {
      "text/plain": [
       "49"
      ]
     },
     "execution_count": 14,
     "metadata": {},
     "output_type": "execute_result"
    }
   ],
   "source": [
    "kare(7)"
   ]
  },
  {
   "cell_type": "code",
   "execution_count": null,
   "metadata": {},
   "outputs": [],
   "source": [
    "x=7\n",
    "\n",
    "def f(x):\n",
    "    res=5\n",
    "    res*=res\n",
    "    \n",
    "    if x%2==0:\n",
    "        print(\"Sonuc: \", res)\n",
    "        return res\n",
    "    \n",
    "    else:\n",
    "        print(\"Sonuc: \", res)\n",
    "        return res+10\n",
    "    \n",
    "    \n",
    "f(4) hangi çıktıyı verir?"
   ]
  },
  {
   "cell_type": "markdown",
   "metadata": {},
   "source": [
    "### 9. 3. comment\n",
    "* Yazılan fonksiyon içindeki yorumlara erişmek için Jupyter Notebook'da fonksiyon yazılıp başına **?** getirilir. Daha fazla ayrıntı için **??** getirilir."
   ]
  },
  {
   "cell_type": "code",
   "execution_count": 2,
   "metadata": {},
   "outputs": [],
   "source": [
    "?print"
   ]
  },
  {
   "cell_type": "code",
   "execution_count": 3,
   "metadata": {},
   "outputs": [],
   "source": [
    "??print"
   ]
  },
  {
   "cell_type": "markdown",
   "metadata": {},
   "source": [
    "### 9. 4. Multiple Input/Output\n",
    "* Fonksiyonlarada birden çok input verip, birden çok da output alabilirsin.\n",
    "* Çoklu outputlar tuple olarak döndürülür o yüzden variable unpacking yapılır."
   ]
  },
  {
   "cell_type": "code",
   "execution_count": 4,
   "metadata": {},
   "outputs": [],
   "source": [
    "def of_rectangle(a, b):\n",
    "    area = a * b\n",
    "    perimeter = (a + b) * 2\n",
    "    return area, perimeter"
   ]
  },
  {
   "cell_type": "code",
   "execution_count": 5,
   "metadata": {
    "scrolled": true
   },
   "outputs": [
    {
     "name": "stdout",
     "output_type": "stream",
     "text": [
      "6\n",
      "10\n"
     ]
    }
   ],
   "source": [
    "r_area, r_perimeter = of_rectangle(2, 3)\n",
    "print(r_area)\n",
    "print(r_perimeter)"
   ]
  },
  {
   "cell_type": "markdown",
   "metadata": {},
   "source": [
    "### 9. 5. Predefined Parameters\n",
    "* Önceden tanımlanmış parametrelere **predefined parameters** denir.\n",
    "* Aksi bir değer tanımlanmadığı sürece başta tanımlanmış değeri alır. \n",
    "* Predefined parameters sonlara yazılır."
   ]
  },
  {
   "cell_type": "code",
   "execution_count": 6,
   "metadata": {},
   "outputs": [],
   "source": [
    "def square(x, y=1):\n",
    "    return x**y"
   ]
  },
  {
   "cell_type": "code",
   "execution_count": 7,
   "metadata": {},
   "outputs": [
    {
     "data": {
      "text/plain": [
       "3"
      ]
     },
     "execution_count": 7,
     "metadata": {},
     "output_type": "execute_result"
    }
   ],
   "source": [
    "square(3)"
   ]
  },
  {
   "cell_type": "code",
   "execution_count": 8,
   "metadata": {},
   "outputs": [
    {
     "data": {
      "text/plain": [
       "16"
      ]
     },
     "execution_count": 8,
     "metadata": {},
     "output_type": "execute_result"
    }
   ],
   "source": [
    "square(4, 2)"
   ]
  },
  {
   "cell_type": "code",
   "execution_count": null,
   "metadata": {},
   "outputs": [],
   "source": [
    "def f(x, y=True):\n",
    "    if x%2==0:\n",
    "        y=False\n",
    "        return y\n",
    "    return y\n",
    "\n",
    "f(7,True) hangi çıktıyı verir?"
   ]
  },
  {
   "cell_type": "markdown",
   "metadata": {},
   "source": [
    "### 9. 6. Update Input\n",
    "* Önceden tanımlanmış değişkenleri fonksiyonlara input olarak verdiğin zaman **int** ve **float** gibi değerleri fonksiyon içerisinde değiştirsen de fonksiyon dışına çıktığında değişkenlerin değerleri aynı kalır.\n",
    "* Ancak listeleri değiştirirsen değişiklik sürer."
   ]
  },
  {
   "cell_type": "code",
   "execution_count": 9,
   "metadata": {},
   "outputs": [
    {
     "name": "stdout",
     "output_type": "stream",
     "text": [
      "4\n",
      "2\n"
     ]
    }
   ],
   "source": [
    "a = 2\n",
    "def f(x):\n",
    "    x = 4\n",
    "    return x\n",
    "print(f(a))\n",
    "print(a)"
   ]
  },
  {
   "cell_type": "code",
   "execution_count": 12,
   "metadata": {},
   "outputs": [
    {
     "name": "stdout",
     "output_type": "stream",
     "text": [
      "[1, 3, 4]\n",
      "[1, 3, 4]\n"
     ]
    }
   ],
   "source": [
    "l = [2, 3, 4]\n",
    "def f2(y):\n",
    "    y[0] = 1\n",
    "    return y\n",
    "print(f2(l))\n",
    "print(l)"
   ]
  },
  {
   "cell_type": "markdown",
   "metadata": {},
   "source": [
    "### 9. 7. First Class Function\n",
    "* Python'da fonksiyonlar **first class**'dır. Yani birbirlerine parametre olarak verilebilir."
   ]
  },
  {
   "cell_type": "code",
   "execution_count": 13,
   "metadata": {},
   "outputs": [],
   "source": [
    "def f(x):\n",
    "    return x**2"
   ]
  },
  {
   "cell_type": "code",
   "execution_count": 14,
   "metadata": {},
   "outputs": [],
   "source": [
    "def f2(x, f):\n",
    "    return f(x) * 9"
   ]
  },
  {
   "cell_type": "code",
   "execution_count": 15,
   "metadata": {},
   "outputs": [
    {
     "data": {
      "text/plain": [
       "441"
      ]
     },
     "execution_count": 15,
     "metadata": {},
     "output_type": "execute_result"
    }
   ],
   "source": [
    "f2(7, f)"
   ]
  },
  {
   "cell_type": "markdown",
   "metadata": {},
   "source": [
    "### 9. 8. Underscore Placeholders\n",
    "* Uzun sayıları okumayı kolaylaştıran bir yöntem.\n",
    "* Sayıların aralarına **_** koyabilirsin. Bilgisayar bunu anlamaz."
   ]
  },
  {
   "cell_type": "code",
   "execution_count": 16,
   "metadata": {},
   "outputs": [],
   "source": [
    "sayi = 9_000_000_000"
   ]
  },
  {
   "cell_type": "code",
   "execution_count": 18,
   "metadata": {},
   "outputs": [
    {
     "data": {
      "text/plain": [
       "int"
      ]
     },
     "execution_count": 18,
     "metadata": {},
     "output_type": "execute_result"
    }
   ],
   "source": [
    "type(sayi)"
   ]
  },
  {
   "cell_type": "code",
   "execution_count": 19,
   "metadata": {},
   "outputs": [
    {
     "data": {
      "text/plain": [
       "9000000000"
      ]
     },
     "execution_count": 19,
     "metadata": {},
     "output_type": "execute_result"
    }
   ],
   "source": [
    "sayi"
   ]
  },
  {
   "cell_type": "markdown",
   "metadata": {},
   "source": [
    "### 9. 9. F-String\n",
    "* String içinde değer gömebilmemizi sağlayan yapı."
   ]
  },
  {
   "cell_type": "code",
   "execution_count": 20,
   "metadata": {},
   "outputs": [
    {
     "data": {
      "text/plain": [
       "\"Emin'in mesleği Data Scientist'\""
      ]
     },
     "execution_count": 20,
     "metadata": {},
     "output_type": "execute_result"
    }
   ],
   "source": [
    "isim = \"Emin\"\n",
    "meslek = \"data scientist\"\n",
    "f\"{isim}'in mesleği {meslek.title()}'\""
   ]
  }
 ],
 "metadata": {
  "kernelspec": {
   "display_name": "Python 3",
   "language": "python",
   "name": "python3"
  },
  "language_info": {
   "codemirror_mode": {
    "name": "ipython",
    "version": 3
   },
   "file_extension": ".py",
   "mimetype": "text/x-python",
   "name": "python",
   "nbconvert_exporter": "python",
   "pygments_lexer": "ipython3",
   "version": "3.8.3"
  }
 },
 "nbformat": 4,
 "nbformat_minor": 4
}
