{
 "cells": [
  {
   "cell_type": "markdown",
   "metadata": {},
   "source": [
    "# Say \"Hello, World!\" With Python (Python ile \"Hello, World!\")"
   ]
  },
  {
   "cell_type": "markdown",
   "metadata": {},
   "source": [
    "Python'da çalıştırılabilecek örnek bir kod satırı:"
   ]
  },
  {
   "cell_type": "code",
   "execution_count": 28,
   "metadata": {},
   "outputs": [
    {
     "name": "stdout",
     "output_type": "stream",
     "text": [
      "Hello, World!\n"
     ]
    }
   ],
   "source": [
    "print(\"Hello, World!\")"
   ]
  },
  {
   "cell_type": "markdown",
   "metadata": {},
   "source": [
    "Bir stringi bir değişken olarak kolayca saklayabilir ve ardından onu yazdırabilirsiniz:"
   ]
  },
  {
   "cell_type": "code",
   "execution_count": 29,
   "metadata": {},
   "outputs": [
    {
     "name": "stdout",
     "output_type": "stream",
     "text": [
      "Hello, World!\n"
     ]
    }
   ],
   "source": [
    "my_string = \"Hello, World!\"\n",
    "print(my_string)"
   ]
  },
  {
   "cell_type": "markdown",
   "metadata": {},
   "source": [
    "Yukarıdaki kod (Hello, World!) ekranında. Aşağıdaki düzenleyicide kendin dene!"
   ]
  },
  {
   "cell_type": "markdown",
   "metadata": {},
   "source": [
    "**Girdi Formatı**: Bu meydan okumada herhangi bir girdi okumana gerek yok."
   ]
  },
  {
   "cell_type": "markdown",
   "metadata": {},
   "source": [
    "**Çıktı Formatı**: Hello, World"
   ]
  },
  {
   "cell_type": "markdown",
   "metadata": {},
   "source": [
    "# Python: Division (Bölme)"
   ]
  },
  {
   "cell_type": "markdown",
   "metadata": {},
   "source": [
    "**Görev**\n",
    "* İki tane tam sayı (**a** ve **b**) okunur.\n",
    "* İki satır yazdırmak için ifadeleri ekle.\n",
    "    * İlk satır **a // b** : int sonuç\n",
    "    * İkinci satır **a / b** : float sonuç\n",
    "* Rounding veya formatting gerektirmez."
   ]
  },
  {
   "cell_type": "markdown",
   "metadata": {},
   "source": [
    "**Örnek**\n",
    "* a = 3\n",
    "* b = 3\n",
    "* Integer bölme: 3//5 = 0\n",
    "* Float bölme: 3/5 = 0.6"
   ]
  },
  {
   "cell_type": "markdown",
   "metadata": {},
   "source": [
    "# Loops (Döngüler)"
   ]
  },
  {
   "cell_type": "markdown",
   "metadata": {},
   "source": [
    "**Görev**\n",
    "* Bir tam sayı (n) okunur.\n",
    "* Negatif olmayan (i < n) tüm tam sayılar için sayıların üssünü (i ** 2) print et."
   ]
  },
  {
   "cell_type": "code",
   "execution_count": 31,
   "metadata": {},
   "outputs": [
    {
     "name": "stdout",
     "output_type": "stream",
     "text": [
      "5\n",
      "0\n",
      "1\n",
      "4\n",
      "9\n",
      "16\n"
     ]
    }
   ],
   "source": [
    "n = int(input())\n",
    "i = 0\n",
    "while i < n:\n",
    "    print(i ** 2)\n",
    "    i += 1"
   ]
  },
  {
   "cell_type": "markdown",
   "metadata": {},
   "source": [
    "# Arithmetic Operators (Aritmetik Operatörler)"
   ]
  },
  {
   "cell_type": "markdown",
   "metadata": {},
   "source": [
    "**Görev** <br>\n",
    "**a** ve **b** tam sayıları okunur. Üç satırı yazdırmak için kod ekle:\n",
    "* 1- İlk satır iki sayının toplamını içerir.\n",
    "* 2- İkinci satır, iki sayının farkını içerir (birinci - ikinci).\n",
    "* 3- Üçüncü satır, iki sayının çarpımını içerir."
   ]
  },
  {
   "cell_type": "markdown",
   "metadata": {},
   "source": [
    "**Örnek** <br>\n",
    "a = 3 <br>\n",
    "b = 5 <br>\n",
    "8 <br>\n",
    "-2<br>\n",
    "15 <br>"
   ]
  },
  {
   "cell_type": "code",
   "execution_count": 1,
   "metadata": {},
   "outputs": [
    {
     "name": "stdout",
     "output_type": "stream",
     "text": [
      "8\n",
      "-2\n",
      "15\n"
     ]
    }
   ],
   "source": [
    "a = 3\n",
    "b = 5\n",
    "print(a + b)\n",
    "print(a - b)\n",
    "print(a * b)"
   ]
  },
  {
   "cell_type": "markdown",
   "metadata": {},
   "source": [
    "# Mutations (Mutasyonlar)\n",
    "<p>Listelerin <b>mutable</b>(değiştirilebilen) ve tupleların <b>immutable</b>(değiştirilemeyen) olduğunu gördük.</p>\n",
    "<p>Bunu bir örnekle anlamaya çalışalım.</p>\n",
    "<p>Size immutable bir string verilir ve onda değişiklik yapmak istersiniz.</p>"
   ]
  },
  {
   "cell_type": "markdown",
   "metadata": {},
   "source": [
    "<p><b>Örnek</b></p>"
   ]
  },
  {
   "cell_type": "code",
   "execution_count": 2,
   "metadata": {},
   "outputs": [],
   "source": [
    "string = \"abracadabra\""
   ]
  },
  {
   "cell_type": "code",
   "execution_count": 3,
   "metadata": {},
   "outputs": [
    {
     "name": "stdout",
     "output_type": "stream",
     "text": [
      "a\n"
     ]
    }
   ],
   "source": [
    "# Bir stringe şu şekilde erişilebilir:\n",
    "print(string[5])"
   ]
  },
  {
   "cell_type": "code",
   "execution_count": 4,
   "metadata": {},
   "outputs": [
    {
     "ename": "TypeError",
     "evalue": "'str' object does not support item assignment",
     "output_type": "error",
     "traceback": [
      "\u001b[1;31m---------------------------------------------------------------------------\u001b[0m",
      "\u001b[1;31mTypeError\u001b[0m                                 Traceback (most recent call last)",
      "\u001b[1;32m<ipython-input-4-68a113c30dca>\u001b[0m in \u001b[0;36m<module>\u001b[1;34m\u001b[0m\n\u001b[0;32m      1\u001b[0m \u001b[1;31m# Eğer bi atama yapmak istersen?\u001b[0m\u001b[1;33m\u001b[0m\u001b[1;33m\u001b[0m\u001b[1;33m\u001b[0m\u001b[0m\n\u001b[1;32m----> 2\u001b[1;33m \u001b[0mstring\u001b[0m\u001b[1;33m[\u001b[0m\u001b[1;36m5\u001b[0m\u001b[1;33m]\u001b[0m \u001b[1;33m=\u001b[0m \u001b[1;34m\"k\"\u001b[0m \u001b[1;31m# hata alırsın.\u001b[0m\u001b[1;33m\u001b[0m\u001b[1;33m\u001b[0m\u001b[0m\n\u001b[0m",
      "\u001b[1;31mTypeError\u001b[0m: 'str' object does not support item assignment"
     ]
    }
   ],
   "source": [
    "# Eğer bi atama yapmak istersen?\n",
    "string[5] = \"k\" # hata alırsın."
   ]
  },
  {
   "cell_type": "markdown",
   "metadata": {},
   "source": [
    "<p>Buna nasıl yaklaşırsın?</p>\n",
    "<li> Bir çözüm, stringi bir listeye dönütürmek ve ardından değeri değiştirmektir. </li>\n",
    "<p><b>Örnek</b></p>"
   ]
  },
  {
   "cell_type": "code",
   "execution_count": 5,
   "metadata": {},
   "outputs": [
    {
     "name": "stdout",
     "output_type": "stream",
     "text": [
      "abrackdabra\n"
     ]
    }
   ],
   "source": [
    "string = \"abracadabra\"\n",
    "l = list(string)\n",
    "l[5] = \"k\"\n",
    "string = \"\".join(l)\n",
    "print(string)"
   ]
  },
  {
   "cell_type": "markdown",
   "metadata": {},
   "source": [
    "<li> Diğer bir çözüm, stringi slicing ile ayırıp tekrar birleştirmek."
   ]
  },
  {
   "cell_type": "code",
   "execution_count": 6,
   "metadata": {},
   "outputs": [
    {
     "name": "stdout",
     "output_type": "stream",
     "text": [
      "abrackdabra\n"
     ]
    }
   ],
   "source": [
    "string = \"abracadabra\"\n",
    "string = string[:5] + \"k\" + string[6:]\n",
    "print(string)"
   ]
  },
  {
   "cell_type": "markdown",
   "metadata": {},
   "source": [
    "<p><b>Görev</b></p>\n",
    "<p>Belirli bir stringi oku, belirli bir indexteki karakteri değiştir ve değiştirilmiş stringi yazdır.\n",
    "<p><b>Fonksiyon Açıklaması</b></p>\n",
    "<p>Aşağıdaki editörde mutate_string fonksiyonunu tamamla.</p>\n",
    "<p>mutate_string aşağıdaki parametrelere sahiptir:</p>\n",
    "<ul>\n",
    "<li>string string: değiştirilecek string</li>\n",
    "<li>int position: karakterin ekleneceği dizin</li>\n",
    "<li>string character: eklenecek karakter</li>\n",
    "</ul>\n",
    "<p><b>Döndürülen</b></p>\n",
    "<li>string: değiştirilmiş string</li>\n",
    "\n",
    "<p><b>Input Formatı</b></p>\n",
    "<li> İlk satır bir string içerir, <b>string</b>.</li>\n",
    "<li> İkinci satır int bir değer olarak index <b>position</b> ve bir değiştirmeyi sağlayan karakter olarak <b>character</b></li>"
   ]
  },
  {
   "cell_type": "code",
   "execution_count": 7,
   "metadata": {},
   "outputs": [],
   "source": [
    "def mutate_string(string, position, character):\n",
    "    string = string[:position] + character + string[position+1:]\n",
    "    return string"
   ]
  },
  {
   "cell_type": "code",
   "execution_count": 8,
   "metadata": {},
   "outputs": [
    {
     "data": {
      "text/plain": [
       "'abrackdabra'"
      ]
     },
     "execution_count": 8,
     "metadata": {},
     "output_type": "execute_result"
    }
   ],
   "source": [
    "mutate_string(\"abracadabra\", 5, \"k\")"
   ]
  },
  {
   "cell_type": "markdown",
   "metadata": {},
   "source": [
    "# String Split and Join (String Bölme ve Birleştirme)\n",
    "Python'da stringler bölünebilir."
   ]
  },
  {
   "cell_type": "code",
   "execution_count": 9,
   "metadata": {},
   "outputs": [
    {
     "name": "stdout",
     "output_type": "stream",
     "text": [
      "['this', 'is', 'a', 'string']\n"
     ]
    }
   ],
   "source": [
    "a = \"this is a string\"\n",
    "a = a.split(\" \") # a string listesine dönüştürülür.\n",
    "print(a)"
   ]
  },
  {
   "cell_type": "code",
   "execution_count": 10,
   "metadata": {},
   "outputs": [
    {
     "name": "stdout",
     "output_type": "stream",
     "text": [
      "this-is-a-string\n"
     ]
    }
   ],
   "source": [
    "# bir stringi birleştirmek basittir.\n",
    "a = \"-\".join(a)\n",
    "print(a)"
   ]
  },
  {
   "cell_type": "markdown",
   "metadata": {},
   "source": [
    "**Görev** <br>\n",
    "Size bir string verilir. Stringi \" \" ile split et ve \"-\" ile birleştir. <br>\n",
    "<br>\n",
    "**Fonksiyon Tanımı** <br>\n",
    "Aşağıdaki editörde split_and_join fonksiyonunu tamamla. <br>\n",
    "split_and_join aşağıdaki parametrelere sahiptir:\n",
    "\n",
    "* line : boşlukla ayrılmış kelimelerden oluşan bir string \n",
    "\n",
    "**Döndürülenler**\n",
    "* string : sonuçta ortaya çıkan string \n",
    "\n",
    "**Input Formatı** <br>\n",
    "Boşlukla ayrılmış kelimelerden oluşan bir string."
   ]
  },
  {
   "cell_type": "code",
   "execution_count": 11,
   "metadata": {},
   "outputs": [],
   "source": [
    "def split_and_join(line):\n",
    "    line = line.split(\" \")\n",
    "    line = \"-\".join(line)\n",
    "    return line"
   ]
  },
  {
   "cell_type": "code",
   "execution_count": 12,
   "metadata": {},
   "outputs": [
    {
     "data": {
      "text/plain": [
       "'this-is-a-string'"
      ]
     },
     "execution_count": 12,
     "metadata": {},
     "output_type": "execute_result"
    }
   ],
   "source": [
    "split_and_join(\"this is a string\")"
   ]
  },
  {
   "cell_type": "markdown",
   "metadata": {},
   "source": [
    "# Find a string (Bir string bul),\n",
    "<p>Bu challenge'da kullanıcı bir string ve bir substring girer. Verilen stringde, substringin kaç kez oluştuğunu yazdırman gerekir. String geçişi sağdan sola değil, soldan sağa gerçekleşecektir.</p>\n",
    "<b>NOTE</b>: String karakterleri büyük küçük harf duyarlıdır.\n",
    "<br><br>\n",
    "<b>Giriş Formatı</b>\n",
    "<br>\n",
    "Girişin ilk satırı stringi, ikinci satırı substringi içerir.<br><br>\n",
    "<b>Kısıtlamalar</b>\n",
    "<br>\n",
    "Strindeki her bir karakter ASCII karakteridir.<br><br>\n",
    "<b>Çıkış Formatı</b>\n",
    "<br>\n",
    "Orijinal stringde, substringin toplam oluşum sayısını gösteren tam sayıyı print et.<br><br>"
   ]
  },
  {
   "cell_type": "code",
   "execution_count": 43,
   "metadata": {},
   "outputs": [],
   "source": [
    "def count_substring(string, sub_string):\n",
    "    counter = 0\n",
    "    length = len(sub_string)\n",
    "    for each in range(len(string)):\n",
    "        if sub_string == string[:length]:\n",
    "            counter = counter + 1\n",
    "        string = string[1:]\n",
    "    return counter"
   ]
  },
  {
   "cell_type": "code",
   "execution_count": 44,
   "metadata": {},
   "outputs": [
    {
     "data": {
      "text/plain": [
       "3"
      ]
     },
     "execution_count": 44,
     "metadata": {},
     "output_type": "execute_result"
    }
   ],
   "source": [
    "count_substring(\"ininini\", \"ini\")"
   ]
  },
  {
   "cell_type": "markdown",
   "metadata": {},
   "source": [
    "# Input()\n",
    "* Python 2'de <code>input()</code> ifadesi <code>eval(raw_input(prompt))</code> ifadesi ile eşdeğerdir."
   ]
  },
  {
   "cell_type": "markdown",
   "metadata": {},
   "source": [
    "**Görev**\n",
    "* Bir polinom (P) ve değişkeni (x) ile sonuç (k) verilir.\n",
    "* Amaç P(x)=k doğrulamaktır."
   ]
  },
  {
   "cell_type": "markdown",
   "metadata": {},
   "source": [
    "**Kısıtlamalar**\n",
    "* Polinomun tüm katsayıları tam sayılardır.\n",
    "* x ve y de tam sayıdır."
   ]
  },
  {
   "cell_type": "markdown",
   "metadata": {},
   "source": [
    "**Giriş Formatı**\n",
    "* İlk satır boşlukla ayrılmış x ve k değerlerini içerir.\n",
    "* İkinci satır polinomu içerir."
   ]
  },
  {
   "cell_type": "markdown",
   "metadata": {},
   "source": [
    "**Çıkış Formatı**\n",
    "* Eğer P(x)=k ise True, değilse False."
   ]
  },
  {
   "cell_type": "code",
   "execution_count": 24,
   "metadata": {},
   "outputs": [
    {
     "name": "stdout",
     "output_type": "stream",
     "text": [
      "1 4\n",
      "x**3 + x**2 + x + 1\n"
     ]
    },
    {
     "data": {
      "text/plain": [
       "True"
      ]
     },
     "execution_count": 24,
     "metadata": {},
     "output_type": "execute_result"
    }
   ],
   "source": [
    "x, k = input().split()\n",
    "x = int(x)\n",
    "k = int(k)\n",
    "eval(input()) == k"
   ]
  },
  {
   "cell_type": "markdown",
   "metadata": {},
   "source": [
    "# Python If-Else"
   ]
  },
  {
   "cell_type": "markdown",
   "metadata": {},
   "source": [
    "**Görev**: Bir tam sayı (n) verildiği zaman aşağıdaki koşulları gerçekleştir:\n",
    "* Eğer n tuhaf ise, Weird yazdır.\n",
    "* Eğer n çift ve 2-5 aralığında ise, Not Weird yazdır.\n",
    "* Eğer n çift ve 6-20 aralığında ise, Weird yazdır.\n",
    "* Eğer n çift ve 20'den büyük ise, Not Weird yazdır."
   ]
  },
  {
   "cell_type": "markdown",
   "metadata": {},
   "source": [
    "**Giriş Formatı**: Pozitif bir tamsayı içeren tek bir satır."
   ]
  },
  {
   "cell_type": "markdown",
   "metadata": {},
   "source": [
    "**Sınırlama**: n, 1 ile 100 arasında."
   ]
  },
  {
   "cell_type": "markdown",
   "metadata": {},
   "source": [
    "**Çıkış Formatı**: Sayı tuhafsa Weird, aksi takdirde Not Weird yazdır."
   ]
  },
  {
   "cell_type": "code",
   "execution_count": 27,
   "metadata": {},
   "outputs": [
    {
     "name": "stdout",
     "output_type": "stream",
     "text": [
      "3\n",
      "Weird\n"
     ]
    }
   ],
   "source": [
    "n = int(input())\n",
    "if n % 2 == 0:\n",
    "    if n > 20:\n",
    "        print(\"Not Weird\")\n",
    "    elif n >= 6:\n",
    "        print(\"Weird\")\n",
    "    else:\n",
    "        print(\"Not Weird\")\n",
    "else:\n",
    "    print(\"Weird\")"
   ]
  },
  {
   "cell_type": "markdown",
   "metadata": {},
   "source": [
    "# Lists\n",
    "* Bir liste düşünün (list = []). Aşağıdaki komutları gerçekleştirebilirsiniz: \n",
    "    * .insert(i, e): i indexine e tam sayısını gir.\n",
    "    * .print(): Listeyi yazdır.\n",
    "    * .remove(e): Listedeki e tam sayısının ilkini sil.\n",
    "    * .append(e): Listenin sonuna e ekle.\n",
    "    * .sort(): Listeyi sırala.\n",
    "    * .pop(): Listeden son elemanı çıkar.\n",
    "    * .reverse(): Listeyi tersine çevir.\n",
    "* Listeyi başlat ve n değerini yukarıdaki her işlem için uygula."
   ]
  },
  {
   "cell_type": "markdown",
   "metadata": {},
   "source": [
    "**Giriş Formatı**\n",
    "* İlk satır, komut sayısını gösteren bir tamsayı, n içerir.\n",
    "* Sonraki n satırın her i satırı, yukarıda açıklanan komutlardan birini içerir. "
   ]
  },
  {
   "cell_type": "code",
   "execution_count": 12,
   "metadata": {},
   "outputs": [
    {
     "name": "stdout",
     "output_type": "stream",
     "text": [
      "12\n",
      "insert 0 5\n",
      "insert 1 10\n",
      "insert 0 6\n",
      "print\n",
      "[6, 5, 10]\n",
      "remove 6\n",
      "append 9\n",
      "append 1\n",
      "sort\n",
      "print\n",
      "[1, 5, 9, 10]\n",
      "pop\n",
      "reverse\n",
      "print\n",
      "[9, 5, 1]\n"
     ]
    }
   ],
   "source": [
    "N = int(input())\n",
    "arr = []\n",
    "for _ in range(N):\n",
    "    inputs = input().split()\n",
    "    n = inputs[0]\n",
    "    if n == \"insert\":\n",
    "        i = int(inputs[1])\n",
    "        e = int(inputs[2])\n",
    "        arr.insert(i, e)\n",
    "    elif n == \"print\":\n",
    "        print(arr)\n",
    "    elif n == \"remove\":\n",
    "        e = int(inputs[1])\n",
    "        arr.remove(e)\n",
    "    elif n == \"append\":\n",
    "        e = int(inputs[1])\n",
    "        arr.append(e)\n",
    "    elif n == \"sort\":\n",
    "        arr.sort()\n",
    "    elif n == \"pop\":\n",
    "        arr.pop()\n",
    "    elif n == \"reverse\":\n",
    "        arr.reverse()"
   ]
  },
  {
   "cell_type": "markdown",
   "metadata": {},
   "source": [
    "# Tuples"
   ]
  },
  {
   "cell_type": "markdown",
   "metadata": {},
   "source": [
    "**Görev**\n",
    "* Girdi olarak bir tamsayı(n) ve n boşlukla ayrılmış tamsayılar verildiğinde, bu tamsayılardan bir demet (t) oluşturun. Ardından hash(t) sonucunu hesaplayın ve yazdırın.\n",
    "\n",
    "* Not: hash(), __builtins__ modülündeki işlevlerden biridir, dolayısıyla içe aktarılması gerekmez.\n",
    "\n"
   ]
  },
  {
   "cell_type": "markdown",
   "metadata": {},
   "source": [
    "**Giriş Formatı**\n",
    "\n",
    "* İlk satır, tanımlama grubundaki öğelerin sayısını gösteren bir n tamsayısını içerir.\n",
    "* İkinci satır, t demetindeki öğeleri tanımlayan boşlukla ayrılmış n tamsayı içerir.\n",
    "\n"
   ]
  },
  {
   "cell_type": "markdown",
   "metadata": {},
   "source": [
    "**Çıkış biçimi**\n",
    "\n",
    "* hash(t) sonucunu yazdırın. "
   ]
  },
  {
   "cell_type": "code",
   "execution_count": 20,
   "metadata": {},
   "outputs": [
    {
     "name": "stdout",
     "output_type": "stream",
     "text": [
      "2\n",
      "1 2\n"
     ]
    },
    {
     "data": {
      "text/plain": [
       "-3550055125485641917"
      ]
     },
     "execution_count": 20,
     "metadata": {},
     "output_type": "execute_result"
    }
   ],
   "source": [
    "n = int(input())\n",
    "integer_list = map(int, input().split())\n",
    "t = tuple(integer_list)\n",
    "hash(t)"
   ]
  },
  {
   "cell_type": "markdown",
   "metadata": {},
   "source": [
    "# Set .add()"
   ]
  },
  {
   "cell_type": "markdown",
   "metadata": {},
   "source": [
    "* Mevcut bir kümeye tek bir eleman eklemek istiyorsak, .add() işlemini kullanabiliriz.\n",
    "* Öğeyi kümeye ekler ve 'None' değerini döndürür. "
   ]
  },
  {
   "cell_type": "markdown",
   "metadata": {},
   "source": [
    "**Örnek**"
   ]
  },
  {
   "cell_type": "code",
   "execution_count": 27,
   "metadata": {},
   "outputs": [
    {
     "name": "stdout",
     "output_type": "stream",
     "text": [
      "{'e', 'a', 'r', 'n', 'c', 'k', 'H', 'R'}\n"
     ]
    }
   ],
   "source": [
    "s = set('HackerRank')\n",
    "s.add('H')\n",
    "print(s)"
   ]
  },
  {
   "cell_type": "code",
   "execution_count": 28,
   "metadata": {},
   "outputs": [
    {
     "name": "stdout",
     "output_type": "stream",
     "text": [
      "None\n"
     ]
    }
   ],
   "source": [
    "set(['a', 'c', 'e', 'H', 'k', 'n', 'r', 'R'])\n",
    "print(s.add('HackerRank'))"
   ]
  },
  {
   "cell_type": "code",
   "execution_count": 29,
   "metadata": {},
   "outputs": [
    {
     "name": "stdout",
     "output_type": "stream",
     "text": [
      "{'e', 'a', 'r', 'n', 'c', 'k', 'HackerRank', 'H', 'R'}\n"
     ]
    }
   ],
   "source": [
    "print(s)"
   ]
  },
  {
   "cell_type": "markdown",
   "metadata": {},
   "source": [
    "**Görev**\n",
    "\n",
    "* Arkadaşınız Rupal'a yardım etmek için .add() işlemiyle ilgili bilginizi uygulayın.\n",
    "\n",
    "* Rupal'ın büyük bir ülke pulları koleksiyonu var. Koleksiyonundaki farklı ülke pullarının toplam sayısını saymaya karar verdi. Senden yardım istedi. Pulları N tane ülke pulu yığınından birer birer seçiyorsunuz.\n",
    "\n",
    "* Farklı ülke damgalarının toplam sayısını bulun."
   ]
  },
  {
   "cell_type": "markdown",
   "metadata": {},
   "source": [
    "**Giriş Formatı**\n",
    "\n",
    "* İlk satır, ülke damgalarının toplam sayısı olan bir N tamsayısını içerir.\n",
    "* Sonraki N satır, damganın geldiği ülkenin adını içerir."
   ]
  },
  {
   "cell_type": "markdown",
   "metadata": {},
   "source": [
    "**Kısıtlamalar**\n",
    "* 0 < N < 1000"
   ]
  },
  {
   "cell_type": "markdown",
   "metadata": {},
   "source": [
    "**Çıkış biçimi**\n",
    "\n",
    "* Farklı ülke damgalarının toplam sayısını tek bir satıra yazdırın. "
   ]
  },
  {
   "cell_type": "code",
   "execution_count": 33,
   "metadata": {},
   "outputs": [
    {
     "name": "stdout",
     "output_type": "stream",
     "text": [
      "7\n",
      "UK\n",
      "China\n",
      "USA\n",
      "France\n",
      "New Zealand\n",
      "UK\n",
      "France\n",
      "5\n"
     ]
    }
   ],
   "source": [
    "N = int(input())\n",
    "if (N > 0) and (N < 1000):\n",
    "    t = set()\n",
    "    for _ in range(N):\n",
    "        t.add(input())\n",
    "    print(len(t))"
   ]
  },
  {
   "cell_type": "markdown",
   "metadata": {},
   "source": [
    "# DefaultDict Tutorial"
   ]
  },
  {
   "cell_type": "markdown",
   "metadata": {},
   "source": [
    "* **defaultdict** fonksiyonu, Python'un **collections** sınıfındaki bir container'dır. \n",
    "* Her zamanki sözlük (**dict**) kabına benzer, ancak tek fark, o **key** henüz ayarlanmamışsa bir defaultdict'in varsayılan bir değere sahip olmasıdır. \n",
    "* Bir defaultdict kullanmadıysanız, o anahtarın var olup olmadığını kontrol etmeniz ve yoksa, istediğiniz gibi ayarlamanız gerekir."
   ]
  },
  {
   "cell_type": "markdown",
   "metadata": {},
   "source": [
    "**Örnek**"
   ]
  },
  {
   "cell_type": "code",
   "execution_count": 40,
   "metadata": {},
   "outputs": [
    {
     "name": "stdout",
     "output_type": "stream",
     "text": [
      "('python', ['awesome', 'language'])\n",
      "('something-else', ['not relevant'])\n"
     ]
    }
   ],
   "source": [
    "from collections import defaultdict\n",
    "d = defaultdict(list)\n",
    "d[\"python\"].append(\"awesome\")\n",
    "d['something-else'].append(\"not relevant\")\n",
    "d['python'].append(\"language\")\n",
    "for i in d.items():\n",
    "    print(i)"
   ]
  },
  {
   "cell_type": "markdown",
   "metadata": {},
   "source": [
    "* Bu yarışmada size 2 tam sayı verilecektir, **n** ve **m**. \n",
    "* A kelime grubunda tekrar edebilecek n adet kelime vardır. \n",
    "* B kelime grubuna ait m adet kelime vardır. \n",
    "* Her m kelime için kelimenin A grubunda yer alıp almadığını kontrol ediniz. \n",
    "* A grubundaki her m oluşumunun indekslerini yazdırın. Görünmüyorsa, -1 yazdırın."
   ]
  },
  {
   "cell_type": "markdown",
   "metadata": {},
   "source": [
    "**Misal**\n",
    "\n",
    "* A Grubu 'a', 'b', 'a' içerir \n",
    "* B Grubu 'a', 'c' içerir\n",
    "\n",
    "* B grubundaki ilk sözcük olan 'a' için, A grubunda 1 ve 3 numaralı konumlarda görünür. İkinci sözcük olan 'c', A grubunda görünmez, bu nedenle -1 yazdırın."
   ]
  },
  {
   "cell_type": "markdown",
   "metadata": {},
   "source": [
    "**Giriş Formatı**\n",
    "\n",
    "* İlk satır, bir boşlukla ayrılmış **n** ve **m** tamsayılarını içerir.\n",
    "* Sonraki n satır, A grubuna ait kelimeleri içerir.\n",
    "* Sonraki m satırları B grubuna ait kelimeleri içerir.\n"
   ]
  },
  {
   "cell_type": "markdown",
   "metadata": {},
   "source": [
    "**Kısıtlamalar**\n",
    "* 1 <= n <= 10000\n",
    "* 1 <= m <= 100\n",
    "* 1 <= girişteki her kelimenin uzunluğu <= 100"
   ]
  },
  {
   "cell_type": "markdown",
   "metadata": {},
   "source": [
    "**Çıkış biçimi**\n",
    "\n",
    "* Çıktı m satırları.\n",
    "* i. satır, boşluklarla ayrılmış i. kelimesinin oluşumlarının 1 dizinli konumlarını içermelidir."
   ]
  },
  {
   "cell_type": "code",
   "execution_count": 108,
   "metadata": {
    "scrolled": true
   },
   "outputs": [
    {
     "name": "stdout",
     "output_type": "stream",
     "text": [
      "3 2\n",
      "a\n",
      "b\n",
      "a\n",
      "a\n",
      "1 3\n",
      "c\n",
      "-1\n"
     ]
    }
   ],
   "source": [
    "from collections import defaultdict\n",
    "n, m = map(int, input().split())\n",
    "d = defaultdict(list)\n",
    "for i in range(1, n + 1):\n",
    "    d[input()].append(str(i))\n",
    "for i in range(m):\n",
    "    print(' '.join(d[input()]) or -1)"
   ]
  },
  {
   "cell_type": "markdown",
   "metadata": {},
   "source": [
    "# String Split and Join"
   ]
  },
  {
   "cell_type": "code",
   "execution_count": 110,
   "metadata": {},
   "outputs": [
    {
     "name": "stdout",
     "output_type": "stream",
     "text": [
      "['this', 'is', 'a', 'string']\n"
     ]
    }
   ],
   "source": [
    "a = \"this is a string\"\n",
    "a = a.split(\" \") # a, bir string listesine dönüştürülür. \n",
    "print(a)"
   ]
  },
  {
   "cell_type": "code",
   "execution_count": 111,
   "metadata": {},
   "outputs": [
    {
     "name": "stdout",
     "output_type": "stream",
     "text": [
      "this-is-a-string\n"
     ]
    }
   ],
   "source": [
    "a = \"-\".join(a)\n",
    "print(a)"
   ]
  },
  {
   "cell_type": "markdown",
   "metadata": {},
   "source": [
    "**Görev**\n",
    "* Size bir string verilir. Stringi bir \" \" (boşluk) ile ayır ve - kullanarak birleştir."
   ]
  },
  {
   "cell_type": "markdown",
   "metadata": {},
   "source": [
    "**Fonksiyon Açıklaması**\n",
    "* Aşağıdaki düzenleyicide **split_and_join** fonksiyonunu tamamla.\n",
    "\n",
    "* split_and_join aşağıdaki parametrelere sahiptir:\n",
    "    * **line**: boşlukla ayrılmış bir kelime stringi"
   ]
  },
  {
   "cell_type": "markdown",
   "metadata": {},
   "source": [
    "**İadeler**\n",
    "* **string**: elde edilen string"
   ]
  },
  {
   "cell_type": "markdown",
   "metadata": {},
   "source": [
    "**Giriş Formatı**\n",
    "* Bir satır, boşlukla ayrılmış sözcüklerden oluşan bir string içerir. "
   ]
  },
  {
   "cell_type": "code",
   "execution_count": 112,
   "metadata": {},
   "outputs": [],
   "source": [
    "def split_and_join(line):\n",
    "    return \"-\".join(line.split())"
   ]
  },
  {
   "cell_type": "code",
   "execution_count": 114,
   "metadata": {},
   "outputs": [
    {
     "data": {
      "text/plain": [
       "'this-is-a-string'"
      ]
     },
     "execution_count": 114,
     "metadata": {},
     "output_type": "execute_result"
    }
   ],
   "source": [
    "split_and_join(\"this is a string\")"
   ]
  },
  {
   "cell_type": "markdown",
   "metadata": {},
   "source": [
    "# List Comprehensions"
   ]
  },
  {
   "cell_type": "markdown",
   "metadata": {},
   "source": [
    "* Liste kavramalarını öğrenelim! \n",
    "* Size bir **n** tamsayısıyla birlikte bir küboidin boyutlarını temsil eden üç tamsayı **x**, **y** ve **z** verilir. \n",
    "* **i + j + k** toplamının **n**'ye eşit olmadığı bir 3B grid tarafından verilen tüm olası koordinatların **(i, j, k)** bir listesini yazdırın. \n",
    "* Burada **0 <= i <= x; 0 <= j <= y; 0 <= k <= z**. \n",
    "* Lütfen bir öğrenme alıştırması olarak çoklu döngüler yerine liste anlamalarını kullanın. "
   ]
  },
  {
   "cell_type": "markdown",
   "metadata": {},
   "source": [
    "**Örnek**\n",
    "* x = 1\n",
    "* y = 1\n",
    "* z = 2\n",
    "* n = 3\n",
    "* **[i , j, k]** 'nin tüm permütasyonları; [0,0,0] ... [1,1,2]\n",
    "* Toplamı **n = 3** olmayan bir dizi eleman yazdırın. "
   ]
  },
  {
   "cell_type": "markdown",
   "metadata": {},
   "source": [
    "**Inputlar**\n",
    "* 4 tane tam sayı (x, y, z ve n), her biri farklı satırda."
   ]
  },
  {
   "cell_type": "markdown",
   "metadata": {},
   "source": [
    "**Sınırlama**\n",
    "\n",
    "* Liste artan sırada olacak."
   ]
  },
  {
   "cell_type": "code",
   "execution_count": 63,
   "metadata": {},
   "outputs": [
    {
     "name": "stdout",
     "output_type": "stream",
     "text": [
      "1\n",
      "1\n",
      "1\n",
      "2\n"
     ]
    }
   ],
   "source": [
    "x = int(input())\n",
    "y = int(input())\n",
    "z = int(input())\n",
    "n = int(input())"
   ]
  },
  {
   "cell_type": "code",
   "execution_count": 60,
   "metadata": {},
   "outputs": [],
   "source": [
    "liste = []\n",
    "for i in range(x+1):\n",
    "    for j in range(y+1):\n",
    "        for k in range(z+1):\n",
    "            if (i + j + k) != n:\n",
    "                liste.append([i, j, k])"
   ]
  },
  {
   "cell_type": "code",
   "execution_count": 64,
   "metadata": {},
   "outputs": [],
   "source": [
    "liste = [[i,j,k] for i in range(x+1) for j in range(y+1) for k in range(z+1) if (i+j+k) != n]"
   ]
  },
  {
   "cell_type": "code",
   "execution_count": 65,
   "metadata": {},
   "outputs": [
    {
     "name": "stdout",
     "output_type": "stream",
     "text": [
      "[[0, 0, 0], [0, 0, 1], [0, 1, 0], [1, 0, 0], [1, 1, 1]]\n"
     ]
    }
   ],
   "source": [
    "print(liste)"
   ]
  },
  {
   "cell_type": "markdown",
   "metadata": {},
   "source": [
    "# Write a function"
   ]
  },
  {
   "cell_type": "markdown",
   "metadata": {},
   "source": [
    "<p>29 Şubat olarak neredeyse her dört yılda bir takvime fazladan bir gün eklenir ve bu güne artık gün denir. Gezegenimizin güneş etrafında dönmesinin yaklaşık 365,25 gün sürdüğü gerçeği için takvimi düzeltir. Artık yıl, artık gün içerir.</p>\n",
    "\n",
    "Gregoryen takviminde artık yılları belirlemek için üç koşul kullanılır:\n",
    "* Yıl 4'e eşit olarak bölünebilir, şu durumlar dışında artık yıldır:\n",
    "    * Yıl 100'e eşit olarak bölünebilir, aşağıdaki durumlar dışında artık yıl DEĞİLDİR:\n",
    "        * Yıl da 400'e tam bölünür. O zaman artık yıldır."
   ]
  },
  {
   "cell_type": "markdown",
   "metadata": {},
   "source": [
    "<p>Bu, Gregoryen takviminde 2000 ve 2400 yıllarının artık yıl olduğu, 1800, 1900, 2100, 2200, 2300 ve 2500 yıllarının artık yıl DEĞİL olduğu anlamına gelir.</p>"
   ]
  },
  {
   "cell_type": "markdown",
   "metadata": {},
   "source": [
    "**Görev**\n",
    "* Verilen bir yıl, artık yıl olup olmadığını belirleyin. Artık yıl ise, Boolean **True** değerini döndürün, aksi takdirde **False** döndürün.\n",
    "\n",
    "* Sağlanan kod saplamasının STDIN'den okuduğunu ve argümanları **is_leap** işlevine ilettiğini unutmayın. Yalnızca is_leap işlevini tamamlamak gerekir."
   ]
  },
  {
   "cell_type": "markdown",
   "metadata": {},
   "source": [
    "**Input**\n",
    "\n",
    "* Test edilen **year** okunur."
   ]
  },
  {
   "cell_type": "markdown",
   "metadata": {},
   "source": [
    "**Dahası**\n",
    "* 1900 <= year <= 10^5"
   ]
  },
  {
   "cell_type": "markdown",
   "metadata": {},
   "source": [
    "**Output**\n",
    "\n",
    "* Fonksiyon, bir Boole değeri (True/False) döndürmelidir. Çıktı, sağlanan kod saplaması tarafından işlenir."
   ]
  },
  {
   "cell_type": "code",
   "execution_count": 20,
   "metadata": {},
   "outputs": [],
   "source": [
    "def is_leap(year):\n",
    "    leap = False\n",
    "    if year % 4 == 0:\n",
    "        if year % 100 == 0:\n",
    "            if year % 400 == 0:\n",
    "                leap = True\n",
    "            else:\n",
    "                leap = False\n",
    "        else:\n",
    "            leap = True\n",
    "    return leap"
   ]
  },
  {
   "cell_type": "code",
   "execution_count": 21,
   "metadata": {},
   "outputs": [
    {
     "name": "stdout",
     "output_type": "stream",
     "text": [
      "1992\n",
      "True\n"
     ]
    }
   ],
   "source": [
    "year = int(input())\n",
    "print(is_leap(year))"
   ]
  },
  {
   "cell_type": "markdown",
   "metadata": {},
   "source": [
    "# Print Function"
   ]
  },
  {
   "cell_type": "markdown",
   "metadata": {},
   "source": [
    "* Dahil edilen kod saplaması, STDIN'den bir tamsayı (**n**) okuyacaktır.\n",
    "\n",
    "* Herhangi bir dize yöntemi kullanmadan aşağıdakileri yazdırmayı deneyin:\n",
    "123...n\n",
    "\n",
    "* \"...\" ifadesinin aradaki ardışık değerleri temsil ettiğini unutmayın.\n",
    "\n",
    "**Misal**\n",
    "* sayı = 5\n",
    "* 12345 stringini yazdırın.\n",
    "\n",
    "**Input**\n",
    "\n",
    "* İlk satır bir **n** tamsayısını içerir.\n",
    "\n",
    "**Dahası**\n",
    "* 1 <= n <= 150\n",
    "\n",
    "**Output**\n",
    "\n",
    "* 1'den n'ye kadar olan tam sayıların listesini boşluk bırakmadan bir dize olarak yazdırın. "
   ]
  },
  {
   "cell_type": "code",
   "execution_count": 28,
   "metadata": {},
   "outputs": [
    {
     "name": "stdout",
     "output_type": "stream",
     "text": [
      "3\n",
      "123\n"
     ]
    }
   ],
   "source": [
    "n = int(input())\n",
    "string = str()\n",
    "for i in range(n):\n",
    "    string += str(i+1)\n",
    "print(string)"
   ]
  },
  {
   "cell_type": "markdown",
   "metadata": {},
   "source": [
    "# Find the Runner-Up Score!\n",
    "\n"
   ]
  },
  {
   "cell_type": "markdown",
   "metadata": {},
   "source": [
    "* Üniversite Spor Gününüz için katılımcıların puan tablosuna bakıldığında, ikincilik puanını bulmanız gerekir. Size n puan verilir. Bunları bir listede saklayın ve ikincinin puanını bulun.\n",
    "\n",
    "**Giriş**\n",
    "* İlk satırda n bulunur. İkinci satır, her biri bir boşlukla ayrılmış n tam sayıdan oluşan bir A[] dizisini içerir.\n",
    "\n",
    "**Çıkış**\n",
    "* İkincilik skorunu yazdırın. "
   ]
  },
  {
   "cell_type": "code",
   "execution_count": 60,
   "metadata": {},
   "outputs": [
    {
     "name": "stdout",
     "output_type": "stream",
     "text": [
      "4\n",
      "57 57 -57 57\n"
     ]
    }
   ],
   "source": [
    "n = int(input())\n",
    "arr = list(map(int, input().split()))"
   ]
  },
  {
   "cell_type": "code",
   "execution_count": 61,
   "metadata": {
    "scrolled": true
   },
   "outputs": [
    {
     "name": "stdout",
     "output_type": "stream",
     "text": [
      "-57\n"
     ]
    }
   ],
   "source": [
    "print(sorted(list(set(arr)))[-2])"
   ]
  },
  {
   "cell_type": "markdown",
   "metadata": {},
   "source": [
    "# Nested Lists"
   ]
  },
  {
   "cell_type": "markdown",
   "metadata": {},
   "source": [
    "* **N** öğrencinin bulunduğu bir sınıftaki her öğrencinin adı ve notları verildiğinde, bunları iç içe bir listede saklayın ve ikinci en düşük nota sahip herhangi bir öğrencinin adını/adlarını yazdırın."
   ]
  },
  {
   "cell_type": "markdown",
   "metadata": {},
   "source": [
    "* **Not**: İkinci en düşük sınıfa sahip birden fazla öğrenci varsa, adlarını alfabetik olarak sıralayın ve her adı yeni bir satıra yazdırın.\n"
   ]
  },
  {
   "cell_type": "markdown",
   "metadata": {},
   "source": [
    "**Misal**\n",
    "\n",
    "* <code>records = [[\"chi\", 20.0], [\"beta\", 50.0], [\"alpha\", 50.0]]</code>\n",
    "* Sıralı puan listesi **[20.0, 50.0]**, bu nedenle ikinci en düşük puan **50.0**. \n",
    "* Bu puana sahip iki öğrenci var: **[\"beta\", \"alpha\"]**. \n",
    "* Alfabetik sıraya göre isimler şu şekilde yazdırılır:\n",
    "    * <code>alpha</code>\n",
    "    * <code>beta</code>"
   ]
  },
  {
   "cell_type": "markdown",
   "metadata": {},
   "source": [
    "**Input**\n",
    "\n",
    "* İlk satır, öğrenci sayısını içeren bir tamsayı (N) içerir.\n",
    "* 2N sonraki satırlar, her öğrenciyi 2 satır üzerinden tanımlar.\n",
    "- İlk satır bir öğrencinin adını içerir.\n",
    "- İkinci satır onların derecesini içerir."
   ]
  },
  {
   "cell_type": "code",
   "execution_count": 32,
   "metadata": {},
   "outputs": [
    {
     "name": "stdout",
     "output_type": "stream",
     "text": [
      "5\n",
      "Harry\n",
      "37.21\n",
      "Berry\n",
      "37.21\n",
      "Tina\n",
      "37.2\n",
      "Akriti\n",
      "41\n",
      "Harsh\n",
      "39\n",
      "Berry\n",
      "Harry\n"
     ]
    }
   ],
   "source": [
    "liste = []\n",
    "for _ in range(int(input())):\n",
    "    name = input()\n",
    "    score = float(input())\n",
    "    liste.append([name, score])\n",
    "liste.sort()    \n",
    "\n",
    "s = set()\n",
    "for i in liste:\n",
    "    s.add(i[1])\n",
    "    \n",
    "for i in liste:\n",
    "    if i[1] == sorted(list(s))[1]:\n",
    "        print(i[0])"
   ]
  },
  {
   "cell_type": "markdown",
   "metadata": {},
   "source": [
    "# Finding the percentage"
   ]
  },
  {
   "cell_type": "code",
   "execution_count": 40,
   "metadata": {
    "scrolled": true
   },
   "outputs": [
    {
     "name": "stdout",
     "output_type": "stream",
     "text": [
      "2\n",
      "Harsh 25 26.5 28\n",
      "Anurag 26 28 30\n",
      "Harsh\n",
      "26.5\n"
     ]
    }
   ],
   "source": [
    "n = int(input())\n",
    "student_marks = {}\n",
    "for _ in range(n):\n",
    "    name, *line = input().split()\n",
    "    scores = list(map(float, line))\n",
    "    student_marks[name] = scores\n",
    "query_name = input()\n",
    "\n",
    "output = 0\n",
    "for i, d in student_marks.items():\n",
    "    if i == query_name:\n",
    "        for j in d:\n",
    "            output += j\n",
    "        output /= 3\n",
    "print(\"%.2f\" % output)"
   ]
  },
  {
   "cell_type": "markdown",
   "metadata": {},
   "source": [
    "# What's Your Name?"
   ]
  },
  {
   "cell_type": "code",
   "execution_count": 43,
   "metadata": {},
   "outputs": [
    {
     "name": "stdout",
     "output_type": "stream",
     "text": [
      "Ross\n",
      "Taylor\n",
      "Hello Ross Taylor! You just delved into python\n"
     ]
    }
   ],
   "source": [
    "def print_full_name(first, last):\n",
    "    print(f\"Hello {first} {last}! You just delved into python\")\n",
    "\n",
    "firstname = input()\n",
    "lastname = input()\n",
    "print_full_name(firstname, lastname)"
   ]
  },
  {
   "cell_type": "markdown",
   "metadata": {},
   "source": [
    "# sWAP cASE"
   ]
  },
  {
   "cell_type": "code",
   "execution_count": 46,
   "metadata": {},
   "outputs": [
    {
     "name": "stdout",
     "output_type": "stream",
     "text": [
      "HackerRank.com presents \"Pythonist 2\".\n",
      "hACKERrANK.COM PRESENTS \"pYTHONIST 2\".\n"
     ]
    }
   ],
   "source": [
    "def swap_case(s):\n",
    "    output = str()\n",
    "    for i in s:\n",
    "        if i == i.upper():\n",
    "            output += i.lower()\n",
    "        elif i == i.lower():\n",
    "            output += i.upper()\n",
    "        else:\n",
    "            output += i\n",
    "    return output\n",
    "\n",
    "print(swap_case(input()))"
   ]
  },
  {
   "cell_type": "code",
   "execution_count": 47,
   "metadata": {},
   "outputs": [
    {
     "data": {
      "text/plain": [
       "True"
      ]
     },
     "execution_count": 47,
     "metadata": {},
     "output_type": "execute_result"
    }
   ],
   "source": [
    "\"hACKERrANK.COM PRESENTS \\\"pYTHONIST 2\\\".\" == \"hACKERrANK.COM PRESENTS \\\"pYTHONIST 2\\\".\""
   ]
  },
  {
   "cell_type": "markdown",
   "metadata": {},
   "source": [
    "# Decorators 2 - Name Directory"
   ]
  },
  {
   "cell_type": "markdown",
   "metadata": {},
   "source": [
    "* Bir isim dizini oluşturmak için dekoratörleri kullanalım! Size **N** kişi hakkında bazı bilgiler verildi. Her kişinin bir adı, soyadı, yaşı ve cinsiyeti vardır. Adlarını artan düzende yaşlarına göre sıralanmış belirli bir biçimde yazdırın, yani en genç kişinin adı önce yazdırılmalıdır. Aynı yaştaki iki kişi için bunları girdi sırasına göre yazdırın. "
   ]
  },
  {
   "cell_type": "code",
   "execution_count": 37,
   "metadata": {},
   "outputs": [
    {
     "name": "stdout",
     "output_type": "stream",
     "text": [
      "3\n",
      "Emin Baştürk 23 M\n",
      "Fatma Baştürk 54 F\n",
      "Metin Baştürk 52 M\n",
      "Mr. Emin Baştürk\n",
      "Mr. Metin Baştürk\n",
      "Ms. Fatma Baştürk\n"
     ]
    }
   ],
   "source": [
    "def person_lister(func):\n",
    "    def inner(people):\n",
    "        return [ func(p) for p in sorted(people, key = lambda x: (int(x[2])))]\n",
    "    return inner\n",
    "\n",
    "@person_lister\n",
    "def name_format(person):\n",
    "    return (\"Mr. \" if person[3] == \"M\" else \"Ms. \") + person[0] + \" \" + person[1]\n",
    "\n",
    "people = [input().split() for i in range(int(input()))]\n",
    "print(*name_format(people), sep='\\n')"
   ]
  },
  {
   "cell_type": "code",
   "execution_count": null,
   "metadata": {},
   "outputs": [],
   "source": []
  },
  {
   "cell_type": "code",
   "execution_count": null,
   "metadata": {},
   "outputs": [],
   "source": []
  },
  {
   "cell_type": "code",
   "execution_count": null,
   "metadata": {},
   "outputs": [],
   "source": []
  },
  {
   "cell_type": "code",
   "execution_count": null,
   "metadata": {},
   "outputs": [],
   "source": []
  },
  {
   "cell_type": "code",
   "execution_count": null,
   "metadata": {},
   "outputs": [],
   "source": []
  },
  {
   "cell_type": "code",
   "execution_count": null,
   "metadata": {},
   "outputs": [],
   "source": []
  },
  {
   "cell_type": "code",
   "execution_count": null,
   "metadata": {},
   "outputs": [],
   "source": []
  },
  {
   "cell_type": "code",
   "execution_count": null,
   "metadata": {},
   "outputs": [],
   "source": []
  },
  {
   "cell_type": "markdown",
   "metadata": {},
   "source": [
    "# Standardize Mobile Number Using Decorators"
   ]
  },
  {
   "cell_type": "markdown",
   "metadata": {},
   "source": [
    "* **N** adet cep telefonu numarası verilir. \n",
    "* Bunları artan düzende sırala ve aşağıda gösterilen standart biçimde yazdır:\n",
    "* <code>+91 xxxxx xxxxx</code>\n",
    "* Verilen cep telefonu numaralarında, gerçek 10 haneli numaradan önce +91, 91 veya 0 yazılabilir. Alternatif olarak, hiçbir önek olmayabilir. \n",
    "* **Input**\n",
    "* Girişin ilk satırı, cep telefonu numaralarının sayısı olan bir N tamsayısını içerir.\n",
    "* Her biri bir cep telefonu numarası içeren N satır izler. \n",
    "* **Output**\n",
    "* Cep telefonu numaralarını gerekli biçimde ayrı satırlara yazdırın. "
   ]
  },
  {
   "cell_type": "code",
   "execution_count": 43,
   "metadata": {
    "scrolled": true
   },
   "outputs": [
    {
     "name": "stdout",
     "output_type": "stream",
     "text": [
      "3\n",
      "07895462130\n",
      "919875641230\n",
      "9195969878\n",
      "+91 78954 62130\n",
      "+91 98756 41230\n",
      "+91 91959 69878\n"
     ]
    }
   ],
   "source": [
    "def wrapper(f):\n",
    "    def fun(l):\n",
    "        nums = []\n",
    "        for i in l:\n",
    "            nums.append(i[-10:])\n",
    "        for i in sorted(nums):\n",
    "            print(f\"+91 {i[-10:-5]} {i[-5:]}\")\n",
    "    return fun\n",
    "\n",
    "@wrapper\n",
    "def sort_phone(l):\n",
    "    print(*sorted(l), sep='\\n')\n",
    "\n",
    "l = [input() for _ in range(int(input()))]\n",
    "sort_phone(l) "
   ]
  },
  {
   "cell_type": "markdown",
   "metadata": {},
   "source": [
    "# Shape and Reshape\n",
    "* **shape**\n",
    "* shape, bir dizi array boyutu verir ve bir arrayin boyutlarını değiştirmek için kullanılabilir. \n",
    "* **(a). Dizi boyutlarını elde etmek için shape kullanma** "
   ]
  },
  {
   "cell_type": "code",
   "execution_count": 4,
   "metadata": {},
   "outputs": [
    {
     "name": "stdout",
     "output_type": "stream",
     "text": [
      "(5,)\n",
      "(3, 2)\n"
     ]
    }
   ],
   "source": [
    "import numpy\n",
    "\n",
    "my_1D_array = numpy.array([1, 2, 3, 4, 5])\n",
    "print(my_1D_array.shape)     #(5,) -> 1 row and 5 columns\n",
    "\n",
    "my_2D_array = numpy.array([[1, 2],[3, 4],[6,5]])\n",
    "print(my_2D_array.shape)     #(3, 2) -> 3 rows and 2 columns "
   ]
  },
  {
   "cell_type": "code",
   "execution_count": 5,
   "metadata": {},
   "outputs": [
    {
     "name": "stdout",
     "output_type": "stream",
     "text": [
      "[[1 2]\n",
      " [3 4]\n",
      " [5 6]]\n"
     ]
    }
   ],
   "source": [
    "import numpy\n",
    "\n",
    "change_array = numpy.array([1,2,3,4,5,6])\n",
    "change_array.shape = (3, 2)\n",
    "print(change_array)      "
   ]
  },
  {
   "cell_type": "code",
   "execution_count": 49,
   "metadata": {},
   "outputs": [
    {
     "name": "stdout",
     "output_type": "stream",
     "text": [
      "1 2 3 4 5 6 7 8 9\n"
     ]
    }
   ],
   "source": [
    "import numpy\n",
    "my_array = numpy.array(input().split(), dtype = int)\n",
    "my_array.shape = (3,3)\n",
    "print(my_array)"
   ]
  },
  {
   "cell_type": "code",
   "execution_count": 50,
   "metadata": {},
   "outputs": [],
   "source": []
  },
  {
   "cell_type": "code",
   "execution_count": 52,
   "metadata": {},
   "outputs": [
    {
     "name": "stdout",
     "output_type": "stream",
     "text": [
      "[[1 2 3]\n",
      " [4 5 6]\n",
      " [7 8 9]]\n"
     ]
    }
   ],
   "source": []
  },
  {
   "cell_type": "code",
   "execution_count": null,
   "metadata": {},
   "outputs": [],
   "source": []
  },
  {
   "cell_type": "code",
   "execution_count": 53,
   "metadata": {},
   "outputs": [
    {
     "name": "stdout",
     "output_type": "stream",
     "text": [
      "[[1 4]\n",
      " [2 5]\n",
      " [3 6]]\n"
     ]
    }
   ],
   "source": [
    "import numpy\n",
    "\n",
    "my_array = numpy.array([[1,2,3],\n",
    "                        [4,5,6]])\n",
    "print (numpy.transpose(my_array))\n"
   ]
  },
  {
   "cell_type": "code",
   "execution_count": 96,
   "metadata": {},
   "outputs": [
    {
     "name": "stdout",
     "output_type": "stream",
     "text": [
      "3 2\n",
      "1 2\n",
      "3 4\n",
      "5 6\n",
      "[[1 2]\n",
      " [3 4]\n",
      " [5 6]]\n",
      "[[1 3 5]\n",
      " [2 4 6]]\n",
      "[1 2 3 4 5 6]\n"
     ]
    }
   ],
   "source": [
    "import numpy\n",
    "N, M = input().split()\n",
    "array = numpy.array([input().split() for _ in range(int(N))], dtype = int)\n",
    "print(array)\n",
    "print(numpy.transpose(array))\n",
    "print(array.flatten())"
   ]
  },
  {
   "cell_type": "code",
   "execution_count": 93,
   "metadata": {},
   "outputs": [],
   "source": [
    "liste = []\n",
    "for i in range(2):\n",
    "    for j in range(2):\n",
    "        liste.append([i, j])"
   ]
  },
  {
   "cell_type": "code",
   "execution_count": 94,
   "metadata": {},
   "outputs": [
    {
     "data": {
      "text/plain": [
       "[[0, 0], [0, 1], [1, 0], [1, 1]]"
      ]
     },
     "execution_count": 94,
     "metadata": {},
     "output_type": "execute_result"
    }
   ],
   "source": [
    "liste"
   ]
  },
  {
   "cell_type": "code",
   "execution_count": 97,
   "metadata": {},
   "outputs": [
    {
     "name": "stdout",
     "output_type": "stream",
     "text": [
      "3 2\n",
      "1 2\n",
      "3 4\n",
      "5 6\n",
      "[[1 3 5]\n",
      " [2 4 6]]\n",
      "[1 2 3 4 5 6]\n"
     ]
    }
   ],
   "source": [
    "n, m = map(int, input().split())\n",
    "array = numpy.array([input().strip().split() for _ in range(n)], int)\n",
    "print (array.transpose())\n",
    "print (array.flatten())"
   ]
  },
  {
   "cell_type": "code",
   "execution_count": 164,
   "metadata": {},
   "outputs": [
    {
     "name": "stdout",
     "output_type": "stream",
     "text": [
      "3 3 3\n",
      "[[[0 0 0]\n",
      "  [0 0 0]\n",
      "  [0 0 0]]\n",
      "\n",
      " [[0 0 0]\n",
      "  [0 0 0]\n",
      "  [0 0 0]]\n",
      "\n",
      " [[0 0 0]\n",
      "  [0 0 0]\n",
      "  [0 0 0]]]\n",
      "[[[1 1 1]\n",
      "  [1 1 1]\n",
      "  [1 1 1]]\n",
      "\n",
      " [[1 1 1]\n",
      "  [1 1 1]\n",
      "  [1 1 1]]\n",
      "\n",
      " [[1 1 1]\n",
      "  [1 1 1]\n",
      "  [1 1 1]]]\n"
     ]
    }
   ],
   "source": [
    "import numpy\n",
    "t = tuple([int(i) for i in input().split()])\n",
    "print(numpy.zeros(t, dtype = int))\n",
    "print(numpy.ones(t, dtype = int))"
   ]
  },
  {
   "cell_type": "markdown",
   "metadata": {},
   "source": [
    "**Identity**\n",
    "\n",
    "* Identity bir identity array return eder. Bir identity array, tüm ana köşegen öğeleri 1 ve geri kalanı 0 olan bir kare matristir. Varsayılan veri tipi floattır. "
   ]
  },
  {
   "cell_type": "code",
   "execution_count": 166,
   "metadata": {},
   "outputs": [
    {
     "name": "stdout",
     "output_type": "stream",
     "text": [
      "[[1. 0. 0.]\n",
      " [0. 1. 0.]\n",
      " [0. 0. 1.]]\n"
     ]
    }
   ],
   "source": [
    "import numpy\n",
    "print (numpy.identity(3)) #3 is for  dimension 3 X 3"
   ]
  },
  {
   "cell_type": "markdown",
   "metadata": {},
   "source": [
    "**Eye**\n",
    "\n",
    "* eye methodu, köşegen olarak 1'ler ve başka bir yerde 0'lar olmak üzere 2 boyutlu bir dizi döndürür. Köşegen, isteğe bağlı k parametresine bağlı olarak ana, üst veya alt olabilir. Pozitif k üst köşegen içindir, negatif k alt köşegen içindir ve 0 k (varsayılan) ana köşegen içindir. "
   ]
  },
  {
   "cell_type": "code",
   "execution_count": 167,
   "metadata": {},
   "outputs": [
    {
     "name": "stdout",
     "output_type": "stream",
     "text": [
      "[[0. 1. 0. 0. 0. 0. 0.]\n",
      " [0. 0. 1. 0. 0. 0. 0.]\n",
      " [0. 0. 0. 1. 0. 0. 0.]\n",
      " [0. 0. 0. 0. 1. 0. 0.]\n",
      " [0. 0. 0. 0. 0. 1. 0.]\n",
      " [0. 0. 0. 0. 0. 0. 1.]\n",
      " [0. 0. 0. 0. 0. 0. 0.]\n",
      " [0. 0. 0. 0. 0. 0. 0.]]\n",
      "[[0. 0. 0. 0. 0. 0. 0.]\n",
      " [0. 0. 0. 0. 0. 0. 0.]\n",
      " [1. 0. 0. 0. 0. 0. 0.]\n",
      " [0. 1. 0. 0. 0. 0. 0.]\n",
      " [0. 0. 1. 0. 0. 0. 0.]\n",
      " [0. 0. 0. 1. 0. 0. 0.]\n",
      " [0. 0. 0. 0. 1. 0. 0.]\n",
      " [0. 0. 0. 0. 0. 1. 0.]]\n"
     ]
    }
   ],
   "source": [
    "import numpy\n",
    "print (numpy.eye(8, 7, k = 1))    # 8 X 7 Dimensional array with first upper diagonal 1.\n",
    "print (numpy.eye(8, 7, k = -2))   # 8 X 7 Dimensional array with second lower diagonal 1."
   ]
  },
  {
   "cell_type": "code",
   "execution_count": 168,
   "metadata": {},
   "outputs": [
    {
     "name": "stdout",
     "output_type": "stream",
     "text": [
      "3 3\n",
      "[[ 1.  0.  0.]\n",
      " [ 0.  1.  0.]\n",
      " [ 0.  0.  1.]]\n"
     ]
    }
   ],
   "source": [
    "import numpy\n",
    "numpy.set_printoptions(legacy = \"1.13\")\n",
    "N, M = input().split()\n",
    "print(numpy.eye(int(N), int(M)))"
   ]
  },
  {
   "cell_type": "code",
   "execution_count": null,
   "metadata": {},
   "outputs": [],
   "source": []
  }
 ],
 "metadata": {
  "kernelspec": {
   "display_name": "Python 3",
   "language": "python",
   "name": "python3"
  },
  "language_info": {
   "codemirror_mode": {
    "name": "ipython",
    "version": 3
   },
   "file_extension": ".py",
   "mimetype": "text/x-python",
   "name": "python",
   "nbconvert_exporter": "python",
   "pygments_lexer": "ipython3",
   "version": "3.8.3"
  }
 },
 "nbformat": 4,
 "nbformat_minor": 4
}
